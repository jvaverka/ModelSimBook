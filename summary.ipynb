{
 "cells": [
  {
   "cell_type": "markdown",
   "id": "b4539a82-a804-4942-90d1-0c45fe45cef4",
   "metadata": {},
   "source": [
    "# Summary\n",
    "\n",
    "In summary, this book has no content whatsoever.\n"
   ]
  }
 ],
 "metadata": {
  "kernelspec": {
   "display_name": "Julia 1.9.2",
   "language": "julia",
   "name": "julia-1.9"
  },
  "language_info": {
   "file_extension": ".jl",
   "mimetype": "application/julia",
   "name": "julia",
   "version": "1.9.2"
  }
 },
 "nbformat": 4,
 "nbformat_minor": 5
}
