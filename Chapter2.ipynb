{
 "cells": [
  {
   "cell_type": "code",
   "execution_count": null,
   "id": "9f650d8b-f616-4aea-b5c1-f97ce1e59a8e",
   "metadata": {},
   "outputs": [],
   "source": []
  },
  {
   "cell_type": "markdown",
   "id": "2c883ba5-052a-4fc3-9cc5-2ebe09ec0f60",
   "metadata": {},
   "source": [
    "# HelloWorld.jl"
   ]
  },
  {
   "cell_type": "code",
   "execution_count": 2,
   "id": "cb7e0a95-4375-408e-968c-35495a3354a7",
   "metadata": {},
   "outputs": [],
   "source": [
    "# import ModelingToolkit, our modeling framework package\n",
    "using ModelingToolkit\n",
    "# import DifferentialEquations.jl, this will allow us to solve the models we create.\n",
    "using DifferentialEquations"
   ]
  },
  {
   "cell_type": "code",
   "execution_count": 3,
   "id": "a37eafb9-2cc3-46d4-a816-0109886ebd4d",
   "metadata": {},
   "outputs": [
    {
     "data": {
      "text/latex": [
       "$$ \\begin{align}\n",
       "\\frac{\\mathrm{d} x\\left( t \\right)}{\\mathrm{d}t} =&  - a x\\left( t \\right)\n",
       "\\end{align}\n",
       " $$"
      ],
      "text/plain": [
       "1-element Vector{Equation}:\n",
       " Differential(t)(x(t)) ~ -a*x(t)"
      ]
     },
     "execution_count": 3,
     "metadata": {},
     "output_type": "execute_result"
    }
   ],
   "source": [
    "# begin by defining our independent variable / time parameter, t\n",
    "@variables t\n",
    "# we also define the differential operator D = d/dt\n",
    "D = Differential(t)\n",
    "\n",
    "# this is how we define a variable of our model as a function of the independent variable t, with an initial condition\n",
    "# (or 'default' value) of 1.0.\n",
    "@variables x(t) = 1.0\n",
    "\n",
    "# this is how we define a constant in our model.\n",
    "@parameters a = 1.0\n",
    "\n",
    "\n",
    "# We can then define an equation involving these terms.\n",
    "Eq = Equation[D(x) ~ -a*x]\n"
   ]
  },
  {
   "cell_type": "markdown",
   "id": "c609c308-2bc1-46e9-afcf-d59bd96f6b21",
   "metadata": {},
   "source": [
    "If we now define some timespan (say 0.0 -> 1.0). "
   ]
  },
  {
   "cell_type": "code",
   "execution_count": 4,
   "id": "1d2ef9c6-1ef8-4936-bfaf-47da796cd056",
   "metadata": {},
   "outputs": [
    {
     "data": {
      "text/latex": [
       "$$ \\begin{align}\n",
       "\\frac{\\mathrm{d} x\\left( t \\right)}{\\mathrm{d}t} =&  - a x\\left( t \\right)\n",
       "\\end{align}\n",
       " $$"
      ],
      "text/plain": [
       "\u001b[0m\u001b[1mModel sys with 1 \u001b[22m\u001b[0m\u001b[1mequations\u001b[22m\n",
       "\u001b[0m\u001b[1mStates (1):\u001b[22m\n",
       "  x(t) [defaults to 1.0]\n",
       "\u001b[0m\u001b[1mParameters (1):\u001b[22m\n",
       "  a [defaults to 1.0]"
      ]
     },
     "execution_count": 4,
     "metadata": {},
     "output_type": "execute_result"
    }
   ],
   "source": [
    "\n",
    "@named sys = ODESystem(Eq, t, [x], [a])"
   ]
  },
  {
   "cell_type": "code",
   "execution_count": null,
   "id": "8ea9d4db-8c4b-4714-aa11-798dd3afbc70",
   "metadata": {},
   "outputs": [],
   "source": []
  },
  {
   "cell_type": "code",
   "execution_count": 5,
   "id": "8b2ec83f-48a8-43c0-b0a3-937d565bac92",
   "metadata": {},
   "outputs": [
    {
     "data": {
      "text/plain": [
       "\u001b[38;2;86;182;194mODEProblem\u001b[0m with uType \u001b[38;2;86;182;194mVector{Float64}\u001b[0m and tType \u001b[38;2;86;182;194mFloat64\u001b[0m. In-place: \u001b[38;2;86;182;194mtrue\u001b[0m\n",
       "timespan: (0.0, 10.0)\n",
       "u0: 1-element Vector{Float64}:\n",
       " 1.0"
      ]
     },
     "execution_count": 5,
     "metadata": {},
     "output_type": "execute_result"
    }
   ],
   "source": [
    "tspan = (0.0,10.0)\n",
    "u0 = [x => 1.0]\n",
    "ps = [a => 1.0]\n",
    "prob = ODEProblem(sys, u0, tspan, ps)"
   ]
  },
  {
   "cell_type": "code",
   "execution_count": 6,
   "id": "595b74b0-e1ca-4aa8-96c1-6aea1d5269a1",
   "metadata": {},
   "outputs": [
    {
     "data": {
      "text/plain": [
       "retcode: Success\n",
       "Interpolation: specialized 4th order \"free\" interpolation, specialized 2nd order \"free\" stiffness-aware interpolation\n",
       "t: 19-element Vector{Float64}:\n",
       "  0.0\n",
       "  0.10001999200479662\n",
       "  0.34208427873632274\n",
       "  0.6553980290285384\n",
       "  1.0312652902321524\n",
       "  1.4709406498424789\n",
       "  1.9659577002710475\n",
       "  2.5116828197051655\n",
       "  3.1005131845932916\n",
       "  3.7267802882369727\n",
       "  4.384652335738251\n",
       "  5.0699090384067516\n",
       "  5.779643487536935\n",
       "  6.513468337242375\n",
       "  7.274570876159992\n",
       "  8.071453116363745\n",
       "  8.918910524409286\n",
       "  9.837942955834713\n",
       " 10.0\n",
       "u: 19-element Vector{Vector{Float64}}:\n",
       " [1.0]\n",
       " [0.9048193287657775]\n",
       " [0.7102883564034526]\n",
       " [0.5192354320104403]\n",
       " [0.35655575232768827]\n",
       " [0.2297097760377978]\n",
       " [0.1400224680615468]\n",
       " [0.08113256081377467]\n",
       " [0.04502714038509206]\n",
       " [0.024071202553369336]\n",
       " [0.012468055449568477]\n",
       " [0.006283629248389904]\n",
       " [0.0030902689323040575]\n",
       " [0.001483628395825723]\n",
       " [0.0006931308501843701]\n",
       " [0.0003124494757596515]\n",
       " [0.00013390814821315707]\n",
       " [5.343328199567361e-5]\n",
       " [4.543927265606355e-5]"
      ]
     },
     "execution_count": 6,
     "metadata": {},
     "output_type": "execute_result"
    }
   ],
   "source": [
    "solution = solve(prob)"
   ]
  },
  {
   "cell_type": "markdown",
   "id": "4e9b6b92-4bf3-4f2e-8ad3-08078d10e0f1",
   "metadata": {},
   "source": [
    "let's now plot the results"
   ]
  },
  {
   "cell_type": "code",
   "execution_count": 7,
   "id": "8540d448-6651-4133-af56-297ffd172c10",
   "metadata": {},
   "outputs": [
    {
     "data": {
      "image/png": "[encoded data removed]",
      "image/svg+xml": [
       "<?xml version=\"1.0\" encoding=\"utf-8\"?>\n",
       "<svg xmlns=\"http://www.w3.org/2000/svg\" xmlns:xlink=\"http://www.w3.org/1999/xlink\" width=\"600\" height=\"400\" viewBox=\"0 0 2400 1600\">\n",
       "<defs>\n",
       "  <clipPath id=\"clip560\">\n",
       "    <rect x=\"0\" y=\"0\" width=\"2400\" height=\"1600\"/>\n",
       "  </clipPath>\n",
       "</defs>\n",
       "<path clip-path=\"url(#clip560)\" d=\"M0 1600 L2400 1600 L2400 0 L0 0  Z\" fill=\"#ffffff\" fill-rule=\"evenodd\" fill-opacity=\"1\"/>\n",
       "<defs>\n",
       "  <clipPath id=\"clip561\">\n",
       "    <rect x=\"480\" y=\"0\" width=\"1681\" height=\"1600\"/>\n",
       "  </clipPath>\n",
       "</defs>\n",
       "<path clip-path=\"url(#clip560)\" d=\"M186.274 1486.45 L2352.76 1486.45 L2352.76 47.2441 L186.274 47.2441  Z\" fill=\"#ffffff\" fill-rule=\"evenodd\" fill-opacity=\"1\"/>\n",
       "<defs>\n",
       "  <clipPath id=\"clip562\">\n",
       "    <rect x=\"186\" y=\"47\" width=\"2167\" height=\"1440\"/>\n",
       "  </clipPath>\n",
       "</defs>\n",
       "<polyline clip-path=\"url(#clip562)\" style=\"stroke:#000000; stroke-linecap:round; stroke-linejoin:round; stroke-width:2; stroke-opacity:0.1; fill:none\" points=\"247.59,1486.45 247.59,47.2441 \"/>\n",
       "<polyline clip-path=\"url(#clip562)\" style=\"stroke:#000000; stroke-linecap:round; stroke-linejoin:round; stroke-width:2; stroke-opacity:0.1; fill:none\" points=\"758.552,1486.45 758.552,47.2441 \"/>\n",
       "<polyline clip-path=\"url(#clip562)\" style=\"stroke:#000000; stroke-linecap:round; stroke-linejoin:round; stroke-width:2; stroke-opacity:0.1; fill:none\" points=\"1269.51,1486.45 1269.51,47.2441 \"/>\n",
       "<polyline clip-path=\"url(#clip562)\" style=\"stroke:#000000; stroke-linecap:round; stroke-linejoin:round; stroke-width:2; stroke-opacity:0.1; fill:none\" points=\"1780.48,1486.45 1780.48,47.2441 \"/>\n",
       "<polyline clip-path=\"url(#clip562)\" style=\"stroke:#000000; stroke-linecap:round; stroke-linejoin:round; stroke-width:2; stroke-opacity:0.1; fill:none\" points=\"2291.44,1486.45 2291.44,47.2441 \"/>\n",
       "<polyline clip-path=\"url(#clip560)\" style=\"stroke:#000000; stroke-linecap:round; stroke-linejoin:round; stroke-width:4; stroke-opacity:1; fill:none\" points=\"186.274,1486.45 2352.76,1486.45 \"/>\n",
       "<polyline clip-path=\"url(#clip560)\" style=\"stroke:#000000; stroke-linecap:round; stroke-linejoin:round; stroke-width:4; stroke-opacity:1; fill:none\" points=\"247.59,1486.45 247.59,1467.55 \"/>\n",
       "<polyline clip-path=\"url(#clip560)\" style=\"stroke:#000000; stroke-linecap:round; stroke-linejoin:round; stroke-width:4; stroke-opacity:1; fill:none\" points=\"758.552,1486.45 758.552,1467.55 \"/>\n",
       "<polyline clip-path=\"url(#clip560)\" style=\"stroke:#000000; stroke-linecap:round; stroke-linejoin:round; stroke-width:4; stroke-opacity:1; fill:none\" points=\"1269.51,1486.45 1269.51,1467.55 \"/>\n",
       "<polyline clip-path=\"url(#clip560)\" style=\"stroke:#000000; stroke-linecap:round; stroke-linejoin:round; stroke-width:4; stroke-opacity:1; fill:none\" points=\"1780.48,1486.45 1780.48,1467.55 \"/>\n",
       "<polyline clip-path=\"url(#clip560)\" style=\"stroke:#000000; stroke-linecap:round; stroke-linejoin:round; stroke-width:4; stroke-opacity:1; fill:none\" points=\"2291.44,1486.45 2291.44,1467.55 \"/>\n",
       "<path clip-path=\"url(#clip560)\" d=\"M224.974 1517.37 Q221.363 1517.37 219.534 1520.93 Q217.729 1524.47 217.729 1531.6 Q217.729 1538.71 219.534 1542.27 Q221.363 1545.82 224.974 1545.82 Q228.608 1545.82 230.414 1542.27 Q232.242 1538.71 232.242 1531.6 Q232.242 1524.47 230.414 1520.93 Q228.608 1517.37 224.974 1517.37 M224.974 1513.66 Q230.784 1513.66 233.84 1518.27 Q236.918 1522.85 236.918 1531.6 Q236.918 1540.33 233.84 1544.94 Q230.784 1549.52 224.974 1549.52 Q219.164 1549.52 216.085 1544.94 Q213.03 1540.33 213.03 1531.6 Q213.03 1522.85 216.085 1518.27 Q219.164 1513.66 224.974 1513.66 Z\" fill=\"#000000\" fill-rule=\"nonzero\" fill-opacity=\"1\" /><path clip-path=\"url(#clip560)\" d=\"M245.136 1542.97 L250.02 1542.97 L250.02 1548.85 L245.136 1548.85 L245.136 1542.97 Z\" fill=\"#000000\" fill-rule=\"nonzero\" fill-opacity=\"1\" /><path clip-path=\"url(#clip560)\" d=\"M270.205 1517.37 Q266.594 1517.37 264.765 1520.93 Q262.96 1524.47 262.96 1531.6 Q262.96 1538.71 264.765 1542.27 Q266.594 1545.82 270.205 1545.82 Q273.839 1545.82 275.645 1542.27 Q277.474 1538.71 277.474 1531.6 Q277.474 1524.47 275.645 1520.93 Q273.839 1517.37 270.205 1517.37 M270.205 1513.66 Q276.015 1513.66 279.071 1518.27 Q282.15 1522.85 282.15 1531.6 Q282.15 1540.33 279.071 1544.94 Q276.015 1549.52 270.205 1549.52 Q264.395 1549.52 261.316 1544.94 Q258.261 1540.33 258.261 1531.6 Q258.261 1522.85 261.316 1518.27 Q264.395 1513.66 270.205 1513.66 Z\" fill=\"#000000\" fill-rule=\"nonzero\" fill-opacity=\"1\" /><path clip-path=\"url(#clip560)\" d=\"M730.289 1544.91 L746.608 1544.91 L746.608 1548.85 L724.664 1548.85 L724.664 1544.91 Q727.326 1542.16 731.909 1537.53 Q736.515 1532.88 737.696 1531.53 Q739.941 1529.01 740.821 1527.27 Q741.724 1525.51 741.724 1523.82 Q741.724 1521.07 739.779 1519.33 Q737.858 1517.6 734.756 1517.6 Q732.557 1517.6 730.103 1518.36 Q727.673 1519.13 724.895 1520.68 L724.895 1515.95 Q727.719 1514.82 730.173 1514.24 Q732.626 1513.66 734.663 1513.66 Q740.034 1513.66 743.228 1516.35 Q746.423 1519.03 746.423 1523.52 Q746.423 1525.65 745.612 1527.57 Q744.825 1529.47 742.719 1532.07 Q742.14 1532.74 739.038 1535.95 Q735.937 1539.15 730.289 1544.91 Z\" fill=\"#000000\" fill-rule=\"nonzero\" fill-opacity=\"1\" /><path clip-path=\"url(#clip560)\" d=\"M756.423 1542.97 L761.307 1542.97 L761.307 1548.85 L756.423 1548.85 L756.423 1542.97 Z\" fill=\"#000000\" fill-rule=\"nonzero\" fill-opacity=\"1\" /><path clip-path=\"url(#clip560)\" d=\"M771.538 1514.29 L789.895 1514.29 L789.895 1518.22 L775.821 1518.22 L775.821 1526.7 Q776.839 1526.35 777.858 1526.19 Q778.876 1526 779.895 1526 Q785.682 1526 789.061 1529.17 Q792.441 1532.34 792.441 1537.76 Q792.441 1543.34 788.969 1546.44 Q785.497 1549.52 779.177 1549.52 Q777.001 1549.52 774.733 1549.15 Q772.487 1548.78 770.08 1548.04 L770.08 1543.34 Q772.163 1544.47 774.385 1545.03 Q776.608 1545.58 779.085 1545.58 Q783.089 1545.58 785.427 1543.48 Q787.765 1541.37 787.765 1537.76 Q787.765 1534.15 785.427 1532.04 Q783.089 1529.94 779.085 1529.94 Q777.21 1529.94 775.335 1530.35 Q773.483 1530.77 771.538 1531.65 L771.538 1514.29 Z\" fill=\"#000000\" fill-rule=\"nonzero\" fill-opacity=\"1\" /><path clip-path=\"url(#clip560)\" d=\"M1236.68 1514.29 L1255.04 1514.29 L1255.04 1518.22 L1240.96 1518.22 L1240.96 1526.7 Q1241.98 1526.35 1243 1526.19 Q1244.02 1526 1245.04 1526 Q1250.82 1526 1254.2 1529.17 Q1257.58 1532.34 1257.58 1537.76 Q1257.58 1543.34 1254.11 1546.44 Q1250.64 1549.52 1244.32 1549.52 Q1242.14 1549.52 1239.87 1549.15 Q1237.63 1548.78 1235.22 1548.04 L1235.22 1543.34 Q1237.3 1544.47 1239.53 1545.03 Q1241.75 1545.58 1244.23 1545.58 Q1248.23 1545.58 1250.57 1543.48 Q1252.91 1541.37 1252.91 1537.76 Q1252.91 1534.15 1250.57 1532.04 Q1248.23 1529.94 1244.23 1529.94 Q1242.35 1529.94 1240.48 1530.35 Q1238.62 1530.77 1236.68 1531.65 L1236.68 1514.29 Z\" fill=\"#000000\" fill-rule=\"nonzero\" fill-opacity=\"1\" /><path clip-path=\"url(#clip560)\" d=\"M1266.8 1542.97 L1271.68 1542.97 L1271.68 1548.85 L1266.8 1548.85 L1266.8 1542.97 Z\" fill=\"#000000\" fill-rule=\"nonzero\" fill-opacity=\"1\" /><path clip-path=\"url(#clip560)\" d=\"M1291.86 1517.37 Q1288.25 1517.37 1286.42 1520.93 Q1284.62 1524.47 1284.62 1531.6 Q1284.62 1538.71 1286.42 1542.27 Q1288.25 1545.82 1291.86 1545.82 Q1295.5 1545.82 1297.3 1542.27 Q1299.13 1538.71 1299.13 1531.6 Q1299.13 1524.47 1297.3 1520.93 Q1295.5 1517.37 1291.86 1517.37 M1291.86 1513.66 Q1297.67 1513.66 1300.73 1518.27 Q1303.81 1522.85 1303.81 1531.6 Q1303.81 1540.33 1300.73 1544.94 Q1297.67 1549.52 1291.86 1549.52 Q1286.05 1549.52 1282.98 1544.94 Q1279.92 1540.33 1279.92 1531.6 Q1279.92 1522.85 1282.98 1518.27 Q1286.05 1513.66 1291.86 1513.66 Z\" fill=\"#000000\" fill-rule=\"nonzero\" fill-opacity=\"1\" /><path clip-path=\"url(#clip560)\" d=\"M1746.8 1514.29 L1769.02 1514.29 L1769.02 1516.28 L1756.47 1548.85 L1751.59 1548.85 L1763.39 1518.22 L1746.8 1518.22 L1746.8 1514.29 Z\" fill=\"#000000\" fill-rule=\"nonzero\" fill-opacity=\"1\" /><path clip-path=\"url(#clip560)\" d=\"M1778.14 1542.97 L1783.02 1542.97 L1783.02 1548.85 L1778.14 1548.85 L1778.14 1542.97 Z\" fill=\"#000000\" fill-rule=\"nonzero\" fill-opacity=\"1\" /><path clip-path=\"url(#clip560)\" d=\"M1793.26 1514.29 L1811.61 1514.29 L1811.61 1518.22 L1797.54 1518.22 L1797.54 1526.7 Q1798.56 1526.35 1799.57 1526.19 Q1800.59 1526 1801.61 1526 Q1807.4 1526 1810.78 1529.17 Q1814.16 1532.34 1814.16 1537.76 Q1814.16 1543.34 1810.69 1546.44 Q1807.21 1549.52 1800.89 1549.52 Q1798.72 1549.52 1796.45 1549.15 Q1794.2 1548.78 1791.8 1548.04 L1791.8 1543.34 Q1793.88 1544.47 1796.1 1545.03 Q1798.32 1545.58 1800.8 1545.58 Q1804.81 1545.58 1807.14 1543.48 Q1809.48 1541.37 1809.48 1537.76 Q1809.48 1534.15 1807.14 1532.04 Q1804.81 1529.94 1800.8 1529.94 Q1798.93 1529.94 1797.05 1530.35 Q1795.2 1530.77 1793.26 1531.65 L1793.26 1514.29 Z\" fill=\"#000000\" fill-rule=\"nonzero\" fill-opacity=\"1\" /><path clip-path=\"url(#clip560)\" d=\"M2243.51 1544.91 L2251.15 1544.91 L2251.15 1518.55 L2242.84 1520.21 L2242.84 1515.95 L2251.1 1514.29 L2255.78 1514.29 L2255.78 1544.91 L2263.42 1544.91 L2263.42 1548.85 L2243.51 1548.85 L2243.51 1544.91 Z\" fill=\"#000000\" fill-rule=\"nonzero\" fill-opacity=\"1\" /><path clip-path=\"url(#clip560)\" d=\"M2282.86 1517.37 Q2279.25 1517.37 2277.42 1520.93 Q2275.62 1524.47 2275.62 1531.6 Q2275.62 1538.71 2277.42 1542.27 Q2279.25 1545.82 2282.86 1545.82 Q2286.5 1545.82 2288.3 1542.27 Q2290.13 1538.71 2290.13 1531.6 Q2290.13 1524.47 2288.3 1520.93 Q2286.5 1517.37 2282.86 1517.37 M2282.86 1513.66 Q2288.67 1513.66 2291.73 1518.27 Q2294.81 1522.85 2294.81 1531.6 Q2294.81 1540.33 2291.73 1544.94 Q2288.67 1549.52 2282.86 1549.52 Q2277.05 1549.52 2273.98 1544.94 Q2270.92 1540.33 2270.92 1531.6 Q2270.92 1522.85 2273.98 1518.27 Q2277.05 1513.66 2282.86 1513.66 Z\" fill=\"#000000\" fill-rule=\"nonzero\" fill-opacity=\"1\" /><path clip-path=\"url(#clip560)\" d=\"M2303.03 1542.97 L2307.91 1542.97 L2307.91 1548.85 L2303.03 1548.85 L2303.03 1542.97 Z\" fill=\"#000000\" fill-rule=\"nonzero\" fill-opacity=\"1\" /><path clip-path=\"url(#clip560)\" d=\"M2328.1 1517.37 Q2324.48 1517.37 2322.66 1520.93 Q2320.85 1524.47 2320.85 1531.6 Q2320.85 1538.71 2322.66 1542.27 Q2324.48 1545.82 2328.1 1545.82 Q2331.73 1545.82 2333.54 1542.27 Q2335.36 1538.71 2335.36 1531.6 Q2335.36 1524.47 2333.54 1520.93 Q2331.73 1517.37 2328.1 1517.37 M2328.1 1513.66 Q2333.91 1513.66 2336.96 1518.27 Q2340.04 1522.85 2340.04 1531.6 Q2340.04 1540.33 2336.96 1544.94 Q2333.91 1549.52 2328.1 1549.52 Q2322.29 1549.52 2319.21 1544.94 Q2316.15 1540.33 2316.15 1531.6 Q2316.15 1522.85 2319.21 1518.27 Q2322.29 1513.66 2328.1 1513.66 Z\" fill=\"#000000\" fill-rule=\"nonzero\" fill-opacity=\"1\" /><polyline clip-path=\"url(#clip562)\" style=\"stroke:#000000; stroke-linecap:round; stroke-linejoin:round; stroke-width:2; stroke-opacity:0.1; fill:none\" points=\"186.274,1445.78 2352.76,1445.78 \"/>\n",
       "<polyline clip-path=\"url(#clip562)\" style=\"stroke:#000000; stroke-linecap:round; stroke-linejoin:round; stroke-width:2; stroke-opacity:0.1; fill:none\" points=\"186.274,1106.33 2352.76,1106.33 \"/>\n",
       "<polyline clip-path=\"url(#clip562)\" style=\"stroke:#000000; stroke-linecap:round; stroke-linejoin:round; stroke-width:2; stroke-opacity:0.1; fill:none\" points=\"186.274,766.877 2352.76,766.877 \"/>\n",
       "<polyline clip-path=\"url(#clip562)\" style=\"stroke:#000000; stroke-linecap:round; stroke-linejoin:round; stroke-width:2; stroke-opacity:0.1; fill:none\" points=\"186.274,427.427 2352.76,427.427 \"/>\n",
       "<polyline clip-path=\"url(#clip562)\" style=\"stroke:#000000; stroke-linecap:round; stroke-linejoin:round; stroke-width:2; stroke-opacity:0.1; fill:none\" points=\"186.274,87.9763 2352.76,87.9763 \"/>\n",
       "<polyline clip-path=\"url(#clip560)\" style=\"stroke:#000000; stroke-linecap:round; stroke-linejoin:round; stroke-width:4; stroke-opacity:1; fill:none\" points=\"186.274,1486.45 186.274,47.2441 \"/>\n",
       "<polyline clip-path=\"url(#clip560)\" style=\"stroke:#000000; stroke-linecap:round; stroke-linejoin:round; stroke-width:4; stroke-opacity:1; fill:none\" points=\"186.274,1445.78 205.172,1445.78 \"/>\n",
       "<polyline clip-path=\"url(#clip560)\" style=\"stroke:#000000; stroke-linecap:round; stroke-linejoin:round; stroke-width:4; stroke-opacity:1; fill:none\" points=\"186.274,1106.33 205.172,1106.33 \"/>\n",
       "<polyline clip-path=\"url(#clip560)\" style=\"stroke:#000000; stroke-linecap:round; stroke-linejoin:round; stroke-width:4; stroke-opacity:1; fill:none\" points=\"186.274,766.877 205.172,766.877 \"/>\n",
       "<polyline clip-path=\"url(#clip560)\" style=\"stroke:#000000; stroke-linecap:round; stroke-linejoin:round; stroke-width:4; stroke-opacity:1; fill:none\" points=\"186.274,427.427 205.172,427.427 \"/>\n",
       "<polyline clip-path=\"url(#clip560)\" style=\"stroke:#000000; stroke-linecap:round; stroke-linejoin:round; stroke-width:4; stroke-opacity:1; fill:none\" points=\"186.274,87.9763 205.172,87.9763 \"/>\n",
       "<path clip-path=\"url(#clip560)\" d=\"M62.9365 1431.58 Q59.3254 1431.58 57.4967 1435.14 Q55.6912 1438.68 55.6912 1445.81 Q55.6912 1452.92 57.4967 1456.48 Q59.3254 1460.02 62.9365 1460.02 Q66.5707 1460.02 68.3763 1456.48 Q70.205 1452.92 70.205 1445.81 Q70.205 1438.68 68.3763 1435.14 Q66.5707 1431.58 62.9365 1431.58 M62.9365 1427.87 Q68.7467 1427.87 71.8022 1432.48 Q74.8809 1437.06 74.8809 1445.81 Q74.8809 1454.54 71.8022 1459.15 Q68.7467 1463.73 62.9365 1463.73 Q57.1264 1463.73 54.0477 1459.15 Q50.9921 1454.54 50.9921 1445.81 Q50.9921 1437.06 54.0477 1432.48 Q57.1264 1427.87 62.9365 1427.87 Z\" fill=\"#000000\" fill-rule=\"nonzero\" fill-opacity=\"1\" /><path clip-path=\"url(#clip560)\" d=\"M83.0984 1457.18 L87.9827 1457.18 L87.9827 1463.06 L83.0984 1463.06 L83.0984 1457.18 Z\" fill=\"#000000\" fill-rule=\"nonzero\" fill-opacity=\"1\" /><path clip-path=\"url(#clip560)\" d=\"M108.168 1431.58 Q104.557 1431.58 102.728 1435.14 Q100.922 1438.68 100.922 1445.81 Q100.922 1452.92 102.728 1456.48 Q104.557 1460.02 108.168 1460.02 Q111.802 1460.02 113.608 1456.48 Q115.436 1452.92 115.436 1445.81 Q115.436 1438.68 113.608 1435.14 Q111.802 1431.58 108.168 1431.58 M108.168 1427.87 Q113.978 1427.87 117.033 1432.48 Q120.112 1437.06 120.112 1445.81 Q120.112 1454.54 117.033 1459.15 Q113.978 1463.73 108.168 1463.73 Q102.358 1463.73 99.2789 1459.15 Q96.2234 1454.54 96.2234 1445.81 Q96.2234 1437.06 99.2789 1432.48 Q102.358 1427.87 108.168 1427.87 Z\" fill=\"#000000\" fill-rule=\"nonzero\" fill-opacity=\"1\" /><path clip-path=\"url(#clip560)\" d=\"M138.33 1431.58 Q134.719 1431.58 132.89 1435.14 Q131.084 1438.68 131.084 1445.81 Q131.084 1452.92 132.89 1456.48 Q134.719 1460.02 138.33 1460.02 Q141.964 1460.02 143.769 1456.48 Q145.598 1452.92 145.598 1445.81 Q145.598 1438.68 143.769 1435.14 Q141.964 1431.58 138.33 1431.58 M138.33 1427.87 Q144.14 1427.87 147.195 1432.48 Q150.274 1437.06 150.274 1445.81 Q150.274 1454.54 147.195 1459.15 Q144.14 1463.73 138.33 1463.73 Q132.519 1463.73 129.441 1459.15 Q126.385 1454.54 126.385 1445.81 Q126.385 1437.06 129.441 1432.48 Q132.519 1427.87 138.33 1427.87 Z\" fill=\"#000000\" fill-rule=\"nonzero\" fill-opacity=\"1\" /><path clip-path=\"url(#clip560)\" d=\"M63.9319 1092.13 Q60.3208 1092.13 58.4921 1095.69 Q56.6865 1099.23 56.6865 1106.36 Q56.6865 1113.47 58.4921 1117.03 Q60.3208 1120.57 63.9319 1120.57 Q67.5661 1120.57 69.3717 1117.03 Q71.2004 1113.47 71.2004 1106.36 Q71.2004 1099.23 69.3717 1095.69 Q67.5661 1092.13 63.9319 1092.13 M63.9319 1088.42 Q69.742 1088.42 72.7976 1093.03 Q75.8763 1097.61 75.8763 1106.36 Q75.8763 1115.09 72.7976 1119.7 Q69.742 1124.28 63.9319 1124.28 Q58.1217 1124.28 55.043 1119.7 Q51.9875 1115.09 51.9875 1106.36 Q51.9875 1097.61 55.043 1093.03 Q58.1217 1088.42 63.9319 1088.42 Z\" fill=\"#000000\" fill-rule=\"nonzero\" fill-opacity=\"1\" /><path clip-path=\"url(#clip560)\" d=\"M84.0938 1117.73 L88.978 1117.73 L88.978 1123.61 L84.0938 1123.61 L84.0938 1117.73 Z\" fill=\"#000000\" fill-rule=\"nonzero\" fill-opacity=\"1\" /><path clip-path=\"url(#clip560)\" d=\"M103.191 1119.67 L119.51 1119.67 L119.51 1123.61 L97.566 1123.61 L97.566 1119.67 Q100.228 1116.92 104.811 1112.29 Q109.418 1107.63 110.598 1106.29 Q112.844 1103.77 113.723 1102.03 Q114.626 1100.27 114.626 1098.58 Q114.626 1095.83 112.682 1094.09 Q110.76 1092.36 107.658 1092.36 Q105.459 1092.36 103.006 1093.12 Q100.575 1093.89 97.7974 1095.44 L97.7974 1090.71 Q100.621 1089.58 103.075 1089 Q105.529 1088.42 107.566 1088.42 Q112.936 1088.42 116.131 1091.11 Q119.325 1093.79 119.325 1098.28 Q119.325 1100.41 118.515 1102.33 Q117.728 1104.23 115.621 1106.82 Q115.043 1107.5 111.941 1110.71 Q108.839 1113.91 103.191 1119.67 Z\" fill=\"#000000\" fill-rule=\"nonzero\" fill-opacity=\"1\" /><path clip-path=\"url(#clip560)\" d=\"M129.371 1089.05 L147.728 1089.05 L147.728 1092.98 L133.654 1092.98 L133.654 1101.45 Q134.672 1101.11 135.691 1100.95 Q136.709 1100.76 137.728 1100.76 Q143.515 1100.76 146.894 1103.93 Q150.274 1107.1 150.274 1112.52 Q150.274 1118.1 146.802 1121.2 Q143.33 1124.28 137.01 1124.28 Q134.834 1124.28 132.566 1123.91 Q130.32 1123.54 127.913 1122.8 L127.913 1118.1 Q129.996 1119.23 132.219 1119.79 Q134.441 1120.34 136.918 1120.34 Q140.922 1120.34 143.26 1118.24 Q145.598 1116.13 145.598 1112.52 Q145.598 1108.91 143.26 1106.8 Q140.922 1104.7 136.918 1104.7 Q135.043 1104.7 133.168 1105.11 Q131.316 1105.53 129.371 1106.41 L129.371 1089.05 Z\" fill=\"#000000\" fill-rule=\"nonzero\" fill-opacity=\"1\" /><path clip-path=\"url(#clip560)\" d=\"M62.9365 752.676 Q59.3254 752.676 57.4967 756.24 Q55.6912 759.782 55.6912 766.912 Q55.6912 774.018 57.4967 777.583 Q59.3254 781.124 62.9365 781.124 Q66.5707 781.124 68.3763 777.583 Q70.205 774.018 70.205 766.912 Q70.205 759.782 68.3763 756.24 Q66.5707 752.676 62.9365 752.676 M62.9365 748.972 Q68.7467 748.972 71.8022 753.578 Q74.8809 758.162 74.8809 766.912 Q74.8809 775.638 71.8022 780.245 Q68.7467 784.828 62.9365 784.828 Q57.1264 784.828 54.0477 780.245 Q50.9921 775.638 50.9921 766.912 Q50.9921 758.162 54.0477 753.578 Q57.1264 748.972 62.9365 748.972 Z\" fill=\"#000000\" fill-rule=\"nonzero\" fill-opacity=\"1\" /><path clip-path=\"url(#clip560)\" d=\"M83.0984 778.277 L87.9827 778.277 L87.9827 784.157 L83.0984 784.157 L83.0984 778.277 Z\" fill=\"#000000\" fill-rule=\"nonzero\" fill-opacity=\"1\" /><path clip-path=\"url(#clip560)\" d=\"M98.2141 749.597 L116.57 749.597 L116.57 753.532 L102.496 753.532 L102.496 762.004 Q103.515 761.657 104.534 761.495 Q105.552 761.31 106.571 761.31 Q112.358 761.31 115.737 764.481 Q119.117 767.652 119.117 773.069 Q119.117 778.648 115.645 781.749 Q112.172 784.828 105.853 784.828 Q103.677 784.828 101.409 784.458 Q99.1632 784.087 96.7558 783.347 L96.7558 778.648 Q98.8391 779.782 101.061 780.337 Q103.284 780.893 105.76 780.893 Q109.765 780.893 112.103 778.786 Q114.441 776.68 114.441 773.069 Q114.441 769.458 112.103 767.351 Q109.765 765.245 105.76 765.245 Q103.885 765.245 102.01 765.662 Q100.159 766.078 98.2141 766.958 L98.2141 749.597 Z\" fill=\"#000000\" fill-rule=\"nonzero\" fill-opacity=\"1\" /><path clip-path=\"url(#clip560)\" d=\"M138.33 752.676 Q134.719 752.676 132.89 756.24 Q131.084 759.782 131.084 766.912 Q131.084 774.018 132.89 777.583 Q134.719 781.124 138.33 781.124 Q141.964 781.124 143.769 777.583 Q145.598 774.018 145.598 766.912 Q145.598 759.782 143.769 756.24 Q141.964 752.676 138.33 752.676 M138.33 748.972 Q144.14 748.972 147.195 753.578 Q150.274 758.162 150.274 766.912 Q150.274 775.638 147.195 780.245 Q144.14 784.828 138.33 784.828 Q132.519 784.828 129.441 780.245 Q126.385 775.638 126.385 766.912 Q126.385 758.162 129.441 753.578 Q132.519 748.972 138.33 748.972 Z\" fill=\"#000000\" fill-rule=\"nonzero\" fill-opacity=\"1\" /><path clip-path=\"url(#clip560)\" d=\"M63.9319 413.225 Q60.3208 413.225 58.4921 416.79 Q56.6865 420.332 56.6865 427.461 Q56.6865 434.568 58.4921 438.133 Q60.3208 441.674 63.9319 441.674 Q67.5661 441.674 69.3717 438.133 Q71.2004 434.568 71.2004 427.461 Q71.2004 420.332 69.3717 416.79 Q67.5661 413.225 63.9319 413.225 M63.9319 409.522 Q69.742 409.522 72.7976 414.128 Q75.8763 418.711 75.8763 427.461 Q75.8763 436.188 72.7976 440.795 Q69.742 445.378 63.9319 445.378 Q58.1217 445.378 55.043 440.795 Q51.9875 436.188 51.9875 427.461 Q51.9875 418.711 55.043 414.128 Q58.1217 409.522 63.9319 409.522 Z\" fill=\"#000000\" fill-rule=\"nonzero\" fill-opacity=\"1\" /><path clip-path=\"url(#clip560)\" d=\"M84.0938 438.827 L88.978 438.827 L88.978 444.707 L84.0938 444.707 L84.0938 438.827 Z\" fill=\"#000000\" fill-rule=\"nonzero\" fill-opacity=\"1\" /><path clip-path=\"url(#clip560)\" d=\"M97.9826 410.147 L120.205 410.147 L120.205 412.137 L107.658 444.707 L102.774 444.707 L114.58 414.082 L97.9826 414.082 L97.9826 410.147 Z\" fill=\"#000000\" fill-rule=\"nonzero\" fill-opacity=\"1\" /><path clip-path=\"url(#clip560)\" d=\"M129.371 410.147 L147.728 410.147 L147.728 414.082 L133.654 414.082 L133.654 422.554 Q134.672 422.207 135.691 422.045 Q136.709 421.859 137.728 421.859 Q143.515 421.859 146.894 425.031 Q150.274 428.202 150.274 433.619 Q150.274 439.197 146.802 442.299 Q143.33 445.378 137.01 445.378 Q134.834 445.378 132.566 445.007 Q130.32 444.637 127.913 443.896 L127.913 439.197 Q129.996 440.332 132.219 440.887 Q134.441 441.443 136.918 441.443 Q140.922 441.443 143.26 439.336 Q145.598 437.23 145.598 433.619 Q145.598 430.008 143.26 427.901 Q140.922 425.795 136.918 425.795 Q135.043 425.795 133.168 426.211 Q131.316 426.628 129.371 427.508 L129.371 410.147 Z\" fill=\"#000000\" fill-rule=\"nonzero\" fill-opacity=\"1\" /><path clip-path=\"url(#clip560)\" d=\"M53.7467 101.321 L61.3856 101.321 L61.3856 74.9555 L53.0754 76.6222 L53.0754 72.3629 L61.3393 70.6963 L66.0152 70.6963 L66.0152 101.321 L73.654 101.321 L73.654 105.256 L53.7467 105.256 L53.7467 101.321 Z\" fill=\"#000000\" fill-rule=\"nonzero\" fill-opacity=\"1\" /><path clip-path=\"url(#clip560)\" d=\"M83.0984 99.3767 L87.9827 99.3767 L87.9827 105.256 L83.0984 105.256 L83.0984 99.3767 Z\" fill=\"#000000\" fill-rule=\"nonzero\" fill-opacity=\"1\" /><path clip-path=\"url(#clip560)\" d=\"M108.168 73.775 Q104.557 73.775 102.728 77.3398 Q100.922 80.8814 100.922 88.011 Q100.922 95.1174 102.728 98.6822 Q104.557 102.224 108.168 102.224 Q111.802 102.224 113.608 98.6822 Q115.436 95.1174 115.436 88.011 Q115.436 80.8814 113.608 77.3398 Q111.802 73.775 108.168 73.775 M108.168 70.0713 Q113.978 70.0713 117.033 74.6777 Q120.112 79.261 120.112 88.011 Q120.112 96.7378 117.033 101.344 Q113.978 105.928 108.168 105.928 Q102.358 105.928 99.2789 101.344 Q96.2234 96.7378 96.2234 88.011 Q96.2234 79.261 99.2789 74.6777 Q102.358 70.0713 108.168 70.0713 Z\" fill=\"#000000\" fill-rule=\"nonzero\" fill-opacity=\"1\" /><path clip-path=\"url(#clip560)\" d=\"M138.33 73.775 Q134.719 73.775 132.89 77.3398 Q131.084 80.8814 131.084 88.011 Q131.084 95.1174 132.89 98.6822 Q134.719 102.224 138.33 102.224 Q141.964 102.224 143.769 98.6822 Q145.598 95.1174 145.598 88.011 Q145.598 80.8814 143.769 77.3398 Q141.964 73.775 138.33 73.775 M138.33 70.0713 Q144.14 70.0713 147.195 74.6777 Q150.274 79.261 150.274 88.011 Q150.274 96.7378 147.195 101.344 Q144.14 105.928 138.33 105.928 Q132.519 105.928 129.441 101.344 Q126.385 96.7378 126.385 88.011 Q126.385 79.261 129.441 74.6777 Q132.519 70.0713 138.33 70.0713 Z\" fill=\"#000000\" fill-rule=\"nonzero\" fill-opacity=\"1\" /><polyline clip-path=\"url(#clip562)\" style=\"stroke:#009af9; stroke-linecap:round; stroke-linejoin:round; stroke-width:4; stroke-opacity:1; fill:none\" points=\"247.59,87.9763 268.032,217.213 317.506,481.347 381.543,740.759 458.365,961.646 548.228,1133.88 649.402,1255.65 760.94,1335.62 881.288,1384.64 1009.29,1413.09 1143.75,1428.85 1283.8,1437.25 1428.86,1441.58 1578.85,1443.76 1734.4,1444.84 1897.27,1445.35 2070.48,1445.6 2258.32,1445.7 2291.44,1445.72 \"/>\n",
       "<path clip-path=\"url(#clip560)\" d=\"M2011.46 198.898 L2280.54 198.898 L2280.54 95.2176 L2011.46 95.2176  Z\" fill=\"#ffffff\" fill-rule=\"evenodd\" fill-opacity=\"1\"/>\n",
       "<polyline clip-path=\"url(#clip560)\" style=\"stroke:#000000; stroke-linecap:round; stroke-linejoin:round; stroke-width:4; stroke-opacity:1; fill:none\" points=\"2011.46,198.898 2280.54,198.898 2280.54,95.2176 2011.46,95.2176 2011.46,198.898 \"/>\n",
       "<polyline clip-path=\"url(#clip560)\" style=\"stroke:#009af9; stroke-linecap:round; stroke-linejoin:round; stroke-width:4; stroke-opacity:1; fill:none\" points=\"2035.53,147.058 2179.97,147.058 \"/>\n",
       "<path clip-path=\"url(#clip560)\" d=\"M2217.88 166.745 Q2216.07 171.375 2214.36 172.787 Q2212.65 174.199 2209.78 174.199 L2206.38 174.199 L2206.38 170.634 L2208.88 170.634 Q2210.63 170.634 2211.61 169.8 Q2212.58 168.967 2213.76 165.865 L2214.52 163.921 L2204.04 138.412 L2208.55 138.412 L2216.65 158.689 L2224.76 138.412 L2229.27 138.412 L2217.88 166.745 Z\" fill=\"#000000\" fill-rule=\"nonzero\" fill-opacity=\"1\" /><path clip-path=\"url(#clip560)\" d=\"M2236.56 160.402 L2244.2 160.402 L2244.2 134.037 L2235.89 135.703 L2235.89 131.444 L2244.15 129.778 L2248.83 129.778 L2248.83 160.402 L2256.47 160.402 L2256.47 164.338 L2236.56 164.338 L2236.56 160.402 Z\" fill=\"#000000\" fill-rule=\"nonzero\" fill-opacity=\"1\" /></svg>\n"
      ],
      "text/html": [
       "<?xml version=\"1.0\" encoding=\"utf-8\"?>\n",
       "<svg xmlns=\"http://www.w3.org/2000/svg\" xmlns:xlink=\"http://www.w3.org/1999/xlink\" width=\"600\" height=\"400\" viewBox=\"0 0 2400 1600\">\n",
       "<defs>\n",
       "  <clipPath id=\"clip610\">\n",
       "    <rect x=\"0\" y=\"0\" width=\"2400\" height=\"1600\"/>\n",
       "  </clipPath>\n",
       "</defs>\n",
       "<path clip-path=\"url(#clip610)\" d=\"M0 1600 L2400 1600 L2400 0 L0 0  Z\" fill=\"#ffffff\" fill-rule=\"evenodd\" fill-opacity=\"1\"/>\n",
       "<defs>\n",
       "  <clipPath id=\"clip611\">\n",
       "    <rect x=\"480\" y=\"0\" width=\"1681\" height=\"1600\"/>\n",
       "  </clipPath>\n",
       "</defs>\n",
       "<path clip-path=\"url(#clip610)\" d=\"M186.274 1486.45 L2352.76 1486.45 L2352.76 47.2441 L186.274 47.2441  Z\" fill=\"#ffffff\" fill-rule=\"evenodd\" fill-opacity=\"1\"/>\n",
       "<defs>\n",
       "  <clipPath id=\"clip612\">\n",
       "    <rect x=\"186\" y=\"47\" width=\"2167\" height=\"1440\"/>\n",
       "  </clipPath>\n",
       "</defs>\n",
       "<polyline clip-path=\"url(#clip612)\" style=\"stroke:#000000; stroke-linecap:round; stroke-linejoin:round; stroke-width:2; stroke-opacity:0.1; fill:none\" points=\"247.59,1486.45 247.59,47.2441 \"/>\n",
       "<polyline clip-path=\"url(#clip612)\" style=\"stroke:#000000; stroke-linecap:round; stroke-linejoin:round; stroke-width:2; stroke-opacity:0.1; fill:none\" points=\"758.552,1486.45 758.552,47.2441 \"/>\n",
       "<polyline clip-path=\"url(#clip612)\" style=\"stroke:#000000; stroke-linecap:round; stroke-linejoin:round; stroke-width:2; stroke-opacity:0.1; fill:none\" points=\"1269.51,1486.45 1269.51,47.2441 \"/>\n",
       "<polyline clip-path=\"url(#clip612)\" style=\"stroke:#000000; stroke-linecap:round; stroke-linejoin:round; stroke-width:2; stroke-opacity:0.1; fill:none\" points=\"1780.48,1486.45 1780.48,47.2441 \"/>\n",
       "<polyline clip-path=\"url(#clip612)\" style=\"stroke:#000000; stroke-linecap:round; stroke-linejoin:round; stroke-width:2; stroke-opacity:0.1; fill:none\" points=\"2291.44,1486.45 2291.44,47.2441 \"/>\n",
       "<polyline clip-path=\"url(#clip610)\" style=\"stroke:#000000; stroke-linecap:round; stroke-linejoin:round; stroke-width:4; stroke-opacity:1; fill:none\" points=\"186.274,1486.45 2352.76,1486.45 \"/>\n",
       "<polyline clip-path=\"url(#clip610)\" style=\"stroke:#000000; stroke-linecap:round; stroke-linejoin:round; stroke-width:4; stroke-opacity:1; fill:none\" points=\"247.59,1486.45 247.59,1467.55 \"/>\n",
       "<polyline clip-path=\"url(#clip610)\" style=\"stroke:#000000; stroke-linecap:round; stroke-linejoin:round; stroke-width:4; stroke-opacity:1; fill:none\" points=\"758.552,1486.45 758.552,1467.55 \"/>\n",
       "<polyline clip-path=\"url(#clip610)\" style=\"stroke:#000000; stroke-linecap:round; stroke-linejoin:round; stroke-width:4; stroke-opacity:1; fill:none\" points=\"1269.51,1486.45 1269.51,1467.55 \"/>\n",
       "<polyline clip-path=\"url(#clip610)\" style=\"stroke:#000000; stroke-linecap:round; stroke-linejoin:round; stroke-width:4; stroke-opacity:1; fill:none\" points=\"1780.48,1486.45 1780.48,1467.55 \"/>\n",
       "<polyline clip-path=\"url(#clip610)\" style=\"stroke:#000000; stroke-linecap:round; stroke-linejoin:round; stroke-width:4; stroke-opacity:1; fill:none\" points=\"2291.44,1486.45 2291.44,1467.55 \"/>\n",
       "<path clip-path=\"url(#clip610)\" d=\"M224.974 1517.37 Q221.363 1517.37 219.534 1520.93 Q217.729 1524.47 217.729 1531.6 Q217.729 1538.71 219.534 1542.27 Q221.363 1545.82 224.974 1545.82 Q228.608 1545.82 230.414 1542.27 Q232.242 1538.71 232.242 1531.6 Q232.242 1524.47 230.414 1520.93 Q228.608 1517.37 224.974 1517.37 M224.974 1513.66 Q230.784 1513.66 233.84 1518.27 Q236.918 1522.85 236.918 1531.6 Q236.918 1540.33 233.84 1544.94 Q230.784 1549.52 224.974 1549.52 Q219.164 1549.52 216.085 1544.94 Q213.03 1540.33 213.03 1531.6 Q213.03 1522.85 216.085 1518.27 Q219.164 1513.66 224.974 1513.66 Z\" fill=\"#000000\" fill-rule=\"nonzero\" fill-opacity=\"1\" /><path clip-path=\"url(#clip610)\" d=\"M245.136 1542.97 L250.02 1542.97 L250.02 1548.85 L245.136 1548.85 L245.136 1542.97 Z\" fill=\"#000000\" fill-rule=\"nonzero\" fill-opacity=\"1\" /><path clip-path=\"url(#clip610)\" d=\"M270.205 1517.37 Q266.594 1517.37 264.765 1520.93 Q262.96 1524.47 262.96 1531.6 Q262.96 1538.71 264.765 1542.27 Q266.594 1545.82 270.205 1545.82 Q273.839 1545.82 275.645 1542.27 Q277.474 1538.71 277.474 1531.6 Q277.474 1524.47 275.645 1520.93 Q273.839 1517.37 270.205 1517.37 M270.205 1513.66 Q276.015 1513.66 279.071 1518.27 Q282.15 1522.85 282.15 1531.6 Q282.15 1540.33 279.071 1544.94 Q276.015 1549.52 270.205 1549.52 Q264.395 1549.52 261.316 1544.94 Q258.261 1540.33 258.261 1531.6 Q258.261 1522.85 261.316 1518.27 Q264.395 1513.66 270.205 1513.66 Z\" fill=\"#000000\" fill-rule=\"nonzero\" fill-opacity=\"1\" /><path clip-path=\"url(#clip610)\" d=\"M730.289 1544.91 L746.608 1544.91 L746.608 1548.85 L724.664 1548.85 L724.664 1544.91 Q727.326 1542.16 731.909 1537.53 Q736.515 1532.88 737.696 1531.53 Q739.941 1529.01 740.821 1527.27 Q741.724 1525.51 741.724 1523.82 Q741.724 1521.07 739.779 1519.33 Q737.858 1517.6 734.756 1517.6 Q732.557 1517.6 730.103 1518.36 Q727.673 1519.13 724.895 1520.68 L724.895 1515.95 Q727.719 1514.82 730.173 1514.24 Q732.626 1513.66 734.663 1513.66 Q740.034 1513.66 743.228 1516.35 Q746.423 1519.03 746.423 1523.52 Q746.423 1525.65 745.612 1527.57 Q744.825 1529.47 742.719 1532.07 Q742.14 1532.74 739.038 1535.95 Q735.937 1539.15 730.289 1544.91 Z\" fill=\"#000000\" fill-rule=\"nonzero\" fill-opacity=\"1\" /><path clip-path=\"url(#clip610)\" d=\"M756.423 1542.97 L761.307 1542.97 L761.307 1548.85 L756.423 1548.85 L756.423 1542.97 Z\" fill=\"#000000\" fill-rule=\"nonzero\" fill-opacity=\"1\" /><path clip-path=\"url(#clip610)\" d=\"M771.538 1514.29 L789.895 1514.29 L789.895 1518.22 L775.821 1518.22 L775.821 1526.7 Q776.839 1526.35 777.858 1526.19 Q778.876 1526 779.895 1526 Q785.682 1526 789.061 1529.17 Q792.441 1532.34 792.441 1537.76 Q792.441 1543.34 788.969 1546.44 Q785.497 1549.52 779.177 1549.52 Q777.001 1549.52 774.733 1549.15 Q772.487 1548.78 770.08 1548.04 L770.08 1543.34 Q772.163 1544.47 774.385 1545.03 Q776.608 1545.58 779.085 1545.58 Q783.089 1545.58 785.427 1543.48 Q787.765 1541.37 787.765 1537.76 Q787.765 1534.15 785.427 1532.04 Q783.089 1529.94 779.085 1529.94 Q777.21 1529.94 775.335 1530.35 Q773.483 1530.77 771.538 1531.65 L771.538 1514.29 Z\" fill=\"#000000\" fill-rule=\"nonzero\" fill-opacity=\"1\" /><path clip-path=\"url(#clip610)\" d=\"M1236.68 1514.29 L1255.04 1514.29 L1255.04 1518.22 L1240.96 1518.22 L1240.96 1526.7 Q1241.98 1526.35 1243 1526.19 Q1244.02 1526 1245.04 1526 Q1250.82 1526 1254.2 1529.17 Q1257.58 1532.34 1257.58 1537.76 Q1257.58 1543.34 1254.11 1546.44 Q1250.64 1549.52 1244.32 1549.52 Q1242.14 1549.52 1239.87 1549.15 Q1237.63 1548.78 1235.22 1548.04 L1235.22 1543.34 Q1237.3 1544.47 1239.53 1545.03 Q1241.75 1545.58 1244.23 1545.58 Q1248.23 1545.58 1250.57 1543.48 Q1252.91 1541.37 1252.91 1537.76 Q1252.91 1534.15 1250.57 1532.04 Q1248.23 1529.94 1244.23 1529.94 Q1242.35 1529.94 1240.48 1530.35 Q1238.62 1530.77 1236.68 1531.65 L1236.68 1514.29 Z\" fill=\"#000000\" fill-rule=\"nonzero\" fill-opacity=\"1\" /><path clip-path=\"url(#clip610)\" d=\"M1266.8 1542.97 L1271.68 1542.97 L1271.68 1548.85 L1266.8 1548.85 L1266.8 1542.97 Z\" fill=\"#000000\" fill-rule=\"nonzero\" fill-opacity=\"1\" /><path clip-path=\"url(#clip610)\" d=\"M1291.86 1517.37 Q1288.25 1517.37 1286.42 1520.93 Q1284.62 1524.47 1284.62 1531.6 Q1284.62 1538.71 1286.42 1542.27 Q1288.25 1545.82 1291.86 1545.82 Q1295.5 1545.82 1297.3 1542.27 Q1299.13 1538.71 1299.13 1531.6 Q1299.13 1524.47 1297.3 1520.93 Q1295.5 1517.37 1291.86 1517.37 M1291.86 1513.66 Q1297.67 1513.66 1300.73 1518.27 Q1303.81 1522.85 1303.81 1531.6 Q1303.81 1540.33 1300.73 1544.94 Q1297.67 1549.52 1291.86 1549.52 Q1286.05 1549.52 1282.98 1544.94 Q1279.92 1540.33 1279.92 1531.6 Q1279.92 1522.85 1282.98 1518.27 Q1286.05 1513.66 1291.86 1513.66 Z\" fill=\"#000000\" fill-rule=\"nonzero\" fill-opacity=\"1\" /><path clip-path=\"url(#clip610)\" d=\"M1746.8 1514.29 L1769.02 1514.29 L1769.02 1516.28 L1756.47 1548.85 L1751.59 1548.85 L1763.39 1518.22 L1746.8 1518.22 L1746.8 1514.29 Z\" fill=\"#000000\" fill-rule=\"nonzero\" fill-opacity=\"1\" /><path clip-path=\"url(#clip610)\" d=\"M1778.14 1542.97 L1783.02 1542.97 L1783.02 1548.85 L1778.14 1548.85 L1778.14 1542.97 Z\" fill=\"#000000\" fill-rule=\"nonzero\" fill-opacity=\"1\" /><path clip-path=\"url(#clip610)\" d=\"M1793.26 1514.29 L1811.61 1514.29 L1811.61 1518.22 L1797.54 1518.22 L1797.54 1526.7 Q1798.56 1526.35 1799.57 1526.19 Q1800.59 1526 1801.61 1526 Q1807.4 1526 1810.78 1529.17 Q1814.16 1532.34 1814.16 1537.76 Q1814.16 1543.34 1810.69 1546.44 Q1807.21 1549.52 1800.89 1549.52 Q1798.72 1549.52 1796.45 1549.15 Q1794.2 1548.78 1791.8 1548.04 L1791.8 1543.34 Q1793.88 1544.47 1796.1 1545.03 Q1798.32 1545.58 1800.8 1545.58 Q1804.81 1545.58 1807.14 1543.48 Q1809.48 1541.37 1809.48 1537.76 Q1809.48 1534.15 1807.14 1532.04 Q1804.81 1529.94 1800.8 1529.94 Q1798.93 1529.94 1797.05 1530.35 Q1795.2 1530.77 1793.26 1531.65 L1793.26 1514.29 Z\" fill=\"#000000\" fill-rule=\"nonzero\" fill-opacity=\"1\" /><path clip-path=\"url(#clip610)\" d=\"M2243.51 1544.91 L2251.15 1544.91 L2251.15 1518.55 L2242.84 1520.21 L2242.84 1515.95 L2251.1 1514.29 L2255.78 1514.29 L2255.78 1544.91 L2263.42 1544.91 L2263.42 1548.85 L2243.51 1548.85 L2243.51 1544.91 Z\" fill=\"#000000\" fill-rule=\"nonzero\" fill-opacity=\"1\" /><path clip-path=\"url(#clip610)\" d=\"M2282.86 1517.37 Q2279.25 1517.37 2277.42 1520.93 Q2275.62 1524.47 2275.62 1531.6 Q2275.62 1538.71 2277.42 1542.27 Q2279.25 1545.82 2282.86 1545.82 Q2286.5 1545.82 2288.3 1542.27 Q2290.13 1538.71 2290.13 1531.6 Q2290.13 1524.47 2288.3 1520.93 Q2286.5 1517.37 2282.86 1517.37 M2282.86 1513.66 Q2288.67 1513.66 2291.73 1518.27 Q2294.81 1522.85 2294.81 1531.6 Q2294.81 1540.33 2291.73 1544.94 Q2288.67 1549.52 2282.86 1549.52 Q2277.05 1549.52 2273.98 1544.94 Q2270.92 1540.33 2270.92 1531.6 Q2270.92 1522.85 2273.98 1518.27 Q2277.05 1513.66 2282.86 1513.66 Z\" fill=\"#000000\" fill-rule=\"nonzero\" fill-opacity=\"1\" /><path clip-path=\"url(#clip610)\" d=\"M2303.03 1542.97 L2307.91 1542.97 L2307.91 1548.85 L2303.03 1548.85 L2303.03 1542.97 Z\" fill=\"#000000\" fill-rule=\"nonzero\" fill-opacity=\"1\" /><path clip-path=\"url(#clip610)\" d=\"M2328.1 1517.37 Q2324.48 1517.37 2322.66 1520.93 Q2320.85 1524.47 2320.85 1531.6 Q2320.85 1538.71 2322.66 1542.27 Q2324.48 1545.82 2328.1 1545.82 Q2331.73 1545.82 2333.54 1542.27 Q2335.36 1538.71 2335.36 1531.6 Q2335.36 1524.47 2333.54 1520.93 Q2331.73 1517.37 2328.1 1517.37 M2328.1 1513.66 Q2333.91 1513.66 2336.96 1518.27 Q2340.04 1522.85 2340.04 1531.6 Q2340.04 1540.33 2336.96 1544.94 Q2333.91 1549.52 2328.1 1549.52 Q2322.29 1549.52 2319.21 1544.94 Q2316.15 1540.33 2316.15 1531.6 Q2316.15 1522.85 2319.21 1518.27 Q2322.29 1513.66 2328.1 1513.66 Z\" fill=\"#000000\" fill-rule=\"nonzero\" fill-opacity=\"1\" /><polyline clip-path=\"url(#clip612)\" style=\"stroke:#000000; stroke-linecap:round; stroke-linejoin:round; stroke-width:2; stroke-opacity:0.1; fill:none\" points=\"186.274,1445.78 2352.76,1445.78 \"/>\n",
       "<polyline clip-path=\"url(#clip612)\" style=\"stroke:#000000; stroke-linecap:round; stroke-linejoin:round; stroke-width:2; stroke-opacity:0.1; fill:none\" points=\"186.274,1106.33 2352.76,1106.33 \"/>\n",
       "<polyline clip-path=\"url(#clip612)\" style=\"stroke:#000000; stroke-linecap:round; stroke-linejoin:round; stroke-width:2; stroke-opacity:0.1; fill:none\" points=\"186.274,766.877 2352.76,766.877 \"/>\n",
       "<polyline clip-path=\"url(#clip612)\" style=\"stroke:#000000; stroke-linecap:round; stroke-linejoin:round; stroke-width:2; stroke-opacity:0.1; fill:none\" points=\"186.274,427.427 2352.76,427.427 \"/>\n",
       "<polyline clip-path=\"url(#clip612)\" style=\"stroke:#000000; stroke-linecap:round; stroke-linejoin:round; stroke-width:2; stroke-opacity:0.1; fill:none\" points=\"186.274,87.9763 2352.76,87.9763 \"/>\n",
       "<polyline clip-path=\"url(#clip610)\" style=\"stroke:#000000; stroke-linecap:round; stroke-linejoin:round; stroke-width:4; stroke-opacity:1; fill:none\" points=\"186.274,1486.45 186.274,47.2441 \"/>\n",
       "<polyline clip-path=\"url(#clip610)\" style=\"stroke:#000000; stroke-linecap:round; stroke-linejoin:round; stroke-width:4; stroke-opacity:1; fill:none\" points=\"186.274,1445.78 205.172,1445.78 \"/>\n",
       "<polyline clip-path=\"url(#clip610)\" style=\"stroke:#000000; stroke-linecap:round; stroke-linejoin:round; stroke-width:4; stroke-opacity:1; fill:none\" points=\"186.274,1106.33 205.172,1106.33 \"/>\n",
       "<polyline clip-path=\"url(#clip610)\" style=\"stroke:#000000; stroke-linecap:round; stroke-linejoin:round; stroke-width:4; stroke-opacity:1; fill:none\" points=\"186.274,766.877 205.172,766.877 \"/>\n",
       "<polyline clip-path=\"url(#clip610)\" style=\"stroke:#000000; stroke-linecap:round; stroke-linejoin:round; stroke-width:4; stroke-opacity:1; fill:none\" points=\"186.274,427.427 205.172,427.427 \"/>\n",
       "<polyline clip-path=\"url(#clip610)\" style=\"stroke:#000000; stroke-linecap:round; stroke-linejoin:round; stroke-width:4; stroke-opacity:1; fill:none\" points=\"186.274,87.9763 205.172,87.9763 \"/>\n",
       "<path clip-path=\"url(#clip610)\" d=\"M62.9365 1431.58 Q59.3254 1431.58 57.4967 1435.14 Q55.6912 1438.68 55.6912 1445.81 Q55.6912 1452.92 57.4967 1456.48 Q59.3254 1460.02 62.9365 1460.02 Q66.5707 1460.02 68.3763 1456.48 Q70.205 1452.92 70.205 1445.81 Q70.205 1438.68 68.3763 1435.14 Q66.5707 1431.58 62.9365 1431.58 M62.9365 1427.87 Q68.7467 1427.87 71.8022 1432.48 Q74.8809 1437.06 74.8809 1445.81 Q74.8809 1454.54 71.8022 1459.15 Q68.7467 1463.73 62.9365 1463.73 Q57.1264 1463.73 54.0477 1459.15 Q50.9921 1454.54 50.9921 1445.81 Q50.9921 1437.06 54.0477 1432.48 Q57.1264 1427.87 62.9365 1427.87 Z\" fill=\"#000000\" fill-rule=\"nonzero\" fill-opacity=\"1\" /><path clip-path=\"url(#clip610)\" d=\"M83.0984 1457.18 L87.9827 1457.18 L87.9827 1463.06 L83.0984 1463.06 L83.0984 1457.18 Z\" fill=\"#000000\" fill-rule=\"nonzero\" fill-opacity=\"1\" /><path clip-path=\"url(#clip610)\" d=\"M108.168 1431.58 Q104.557 1431.58 102.728 1435.14 Q100.922 1438.68 100.922 1445.81 Q100.922 1452.92 102.728 1456.48 Q104.557 1460.02 108.168 1460.02 Q111.802 1460.02 113.608 1456.48 Q115.436 1452.92 115.436 1445.81 Q115.436 1438.68 113.608 1435.14 Q111.802 1431.58 108.168 1431.58 M108.168 1427.87 Q113.978 1427.87 117.033 1432.48 Q120.112 1437.06 120.112 1445.81 Q120.112 1454.54 117.033 1459.15 Q113.978 1463.73 108.168 1463.73 Q102.358 1463.73 99.2789 1459.15 Q96.2234 1454.54 96.2234 1445.81 Q96.2234 1437.06 99.2789 1432.48 Q102.358 1427.87 108.168 1427.87 Z\" fill=\"#000000\" fill-rule=\"nonzero\" fill-opacity=\"1\" /><path clip-path=\"url(#clip610)\" d=\"M138.33 1431.58 Q134.719 1431.58 132.89 1435.14 Q131.084 1438.68 131.084 1445.81 Q131.084 1452.92 132.89 1456.48 Q134.719 1460.02 138.33 1460.02 Q141.964 1460.02 143.769 1456.48 Q145.598 1452.92 145.598 1445.81 Q145.598 1438.68 143.769 1435.14 Q141.964 1431.58 138.33 1431.58 M138.33 1427.87 Q144.14 1427.87 147.195 1432.48 Q150.274 1437.06 150.274 1445.81 Q150.274 1454.54 147.195 1459.15 Q144.14 1463.73 138.33 1463.73 Q132.519 1463.73 129.441 1459.15 Q126.385 1454.54 126.385 1445.81 Q126.385 1437.06 129.441 1432.48 Q132.519 1427.87 138.33 1427.87 Z\" fill=\"#000000\" fill-rule=\"nonzero\" fill-opacity=\"1\" /><path clip-path=\"url(#clip610)\" d=\"M63.9319 1092.13 Q60.3208 1092.13 58.4921 1095.69 Q56.6865 1099.23 56.6865 1106.36 Q56.6865 1113.47 58.4921 1117.03 Q60.3208 1120.57 63.9319 1120.57 Q67.5661 1120.57 69.3717 1117.03 Q71.2004 1113.47 71.2004 1106.36 Q71.2004 1099.23 69.3717 1095.69 Q67.5661 1092.13 63.9319 1092.13 M63.9319 1088.42 Q69.742 1088.42 72.7976 1093.03 Q75.8763 1097.61 75.8763 1106.36 Q75.8763 1115.09 72.7976 1119.7 Q69.742 1124.28 63.9319 1124.28 Q58.1217 1124.28 55.043 1119.7 Q51.9875 1115.09 51.9875 1106.36 Q51.9875 1097.61 55.043 1093.03 Q58.1217 1088.42 63.9319 1088.42 Z\" fill=\"#000000\" fill-rule=\"nonzero\" fill-opacity=\"1\" /><path clip-path=\"url(#clip610)\" d=\"M84.0938 1117.73 L88.978 1117.73 L88.978 1123.61 L84.0938 1123.61 L84.0938 1117.73 Z\" fill=\"#000000\" fill-rule=\"nonzero\" fill-opacity=\"1\" /><path clip-path=\"url(#clip610)\" d=\"M103.191 1119.67 L119.51 1119.67 L119.51 1123.61 L97.566 1123.61 L97.566 1119.67 Q100.228 1116.92 104.811 1112.29 Q109.418 1107.63 110.598 1106.29 Q112.844 1103.77 113.723 1102.03 Q114.626 1100.27 114.626 1098.58 Q114.626 1095.83 112.682 1094.09 Q110.76 1092.36 107.658 1092.36 Q105.459 1092.36 103.006 1093.12 Q100.575 1093.89 97.7974 1095.44 L97.7974 1090.71 Q100.621 1089.58 103.075 1089 Q105.529 1088.42 107.566 1088.42 Q112.936 1088.42 116.131 1091.11 Q119.325 1093.79 119.325 1098.28 Q119.325 1100.41 118.515 1102.33 Q117.728 1104.23 115.621 1106.82 Q115.043 1107.5 111.941 1110.71 Q108.839 1113.91 103.191 1119.67 Z\" fill=\"#000000\" fill-rule=\"nonzero\" fill-opacity=\"1\" /><path clip-path=\"url(#clip610)\" d=\"M129.371 1089.05 L147.728 1089.05 L147.728 1092.98 L133.654 1092.98 L133.654 1101.45 Q134.672 1101.11 135.691 1100.95 Q136.709 1100.76 137.728 1100.76 Q143.515 1100.76 146.894 1103.93 Q150.274 1107.1 150.274 1112.52 Q150.274 1118.1 146.802 1121.2 Q143.33 1124.28 137.01 1124.28 Q134.834 1124.28 132.566 1123.91 Q130.32 1123.54 127.913 1122.8 L127.913 1118.1 Q129.996 1119.23 132.219 1119.79 Q134.441 1120.34 136.918 1120.34 Q140.922 1120.34 143.26 1118.24 Q145.598 1116.13 145.598 1112.52 Q145.598 1108.91 143.26 1106.8 Q140.922 1104.7 136.918 1104.7 Q135.043 1104.7 133.168 1105.11 Q131.316 1105.53 129.371 1106.41 L129.371 1089.05 Z\" fill=\"#000000\" fill-rule=\"nonzero\" fill-opacity=\"1\" /><path clip-path=\"url(#clip610)\" d=\"M62.9365 752.676 Q59.3254 752.676 57.4967 756.24 Q55.6912 759.782 55.6912 766.912 Q55.6912 774.018 57.4967 777.583 Q59.3254 781.124 62.9365 781.124 Q66.5707 781.124 68.3763 777.583 Q70.205 774.018 70.205 766.912 Q70.205 759.782 68.3763 756.24 Q66.5707 752.676 62.9365 752.676 M62.9365 748.972 Q68.7467 748.972 71.8022 753.578 Q74.8809 758.162 74.8809 766.912 Q74.8809 775.638 71.8022 780.245 Q68.7467 784.828 62.9365 784.828 Q57.1264 784.828 54.0477 780.245 Q50.9921 775.638 50.9921 766.912 Q50.9921 758.162 54.0477 753.578 Q57.1264 748.972 62.9365 748.972 Z\" fill=\"#000000\" fill-rule=\"nonzero\" fill-opacity=\"1\" /><path clip-path=\"url(#clip610)\" d=\"M83.0984 778.277 L87.9827 778.277 L87.9827 784.157 L83.0984 784.157 L83.0984 778.277 Z\" fill=\"#000000\" fill-rule=\"nonzero\" fill-opacity=\"1\" /><path clip-path=\"url(#clip610)\" d=\"M98.2141 749.597 L116.57 749.597 L116.57 753.532 L102.496 753.532 L102.496 762.004 Q103.515 761.657 104.534 761.495 Q105.552 761.31 106.571 761.31 Q112.358 761.31 115.737 764.481 Q119.117 767.652 119.117 773.069 Q119.117 778.648 115.645 781.749 Q112.172 784.828 105.853 784.828 Q103.677 784.828 101.409 784.458 Q99.1632 784.087 96.7558 783.347 L96.7558 778.648 Q98.8391 779.782 101.061 780.337 Q103.284 780.893 105.76 780.893 Q109.765 780.893 112.103 778.786 Q114.441 776.68 114.441 773.069 Q114.441 769.458 112.103 767.351 Q109.765 765.245 105.76 765.245 Q103.885 765.245 102.01 765.662 Q100.159 766.078 98.2141 766.958 L98.2141 749.597 Z\" fill=\"#000000\" fill-rule=\"nonzero\" fill-opacity=\"1\" /><path clip-path=\"url(#clip610)\" d=\"M138.33 752.676 Q134.719 752.676 132.89 756.24 Q131.084 759.782 131.084 766.912 Q131.084 774.018 132.89 777.583 Q134.719 781.124 138.33 781.124 Q141.964 781.124 143.769 777.583 Q145.598 774.018 145.598 766.912 Q145.598 759.782 143.769 756.24 Q141.964 752.676 138.33 752.676 M138.33 748.972 Q144.14 748.972 147.195 753.578 Q150.274 758.162 150.274 766.912 Q150.274 775.638 147.195 780.245 Q144.14 784.828 138.33 784.828 Q132.519 784.828 129.441 780.245 Q126.385 775.638 126.385 766.912 Q126.385 758.162 129.441 753.578 Q132.519 748.972 138.33 748.972 Z\" fill=\"#000000\" fill-rule=\"nonzero\" fill-opacity=\"1\" /><path clip-path=\"url(#clip610)\" d=\"M63.9319 413.225 Q60.3208 413.225 58.4921 416.79 Q56.6865 420.332 56.6865 427.461 Q56.6865 434.568 58.4921 438.133 Q60.3208 441.674 63.9319 441.674 Q67.5661 441.674 69.3717 438.133 Q71.2004 434.568 71.2004 427.461 Q71.2004 420.332 69.3717 416.79 Q67.5661 413.225 63.9319 413.225 M63.9319 409.522 Q69.742 409.522 72.7976 414.128 Q75.8763 418.711 75.8763 427.461 Q75.8763 436.188 72.7976 440.795 Q69.742 445.378 63.9319 445.378 Q58.1217 445.378 55.043 440.795 Q51.9875 436.188 51.9875 427.461 Q51.9875 418.711 55.043 414.128 Q58.1217 409.522 63.9319 409.522 Z\" fill=\"#000000\" fill-rule=\"nonzero\" fill-opacity=\"1\" /><path clip-path=\"url(#clip610)\" d=\"M84.0938 438.827 L88.978 438.827 L88.978 444.707 L84.0938 444.707 L84.0938 438.827 Z\" fill=\"#000000\" fill-rule=\"nonzero\" fill-opacity=\"1\" /><path clip-path=\"url(#clip610)\" d=\"M97.9826 410.147 L120.205 410.147 L120.205 412.137 L107.658 444.707 L102.774 444.707 L114.58 414.082 L97.9826 414.082 L97.9826 410.147 Z\" fill=\"#000000\" fill-rule=\"nonzero\" fill-opacity=\"1\" /><path clip-path=\"url(#clip610)\" d=\"M129.371 410.147 L147.728 410.147 L147.728 414.082 L133.654 414.082 L133.654 422.554 Q134.672 422.207 135.691 422.045 Q136.709 421.859 137.728 421.859 Q143.515 421.859 146.894 425.031 Q150.274 428.202 150.274 433.619 Q150.274 439.197 146.802 442.299 Q143.33 445.378 137.01 445.378 Q134.834 445.378 132.566 445.007 Q130.32 444.637 127.913 443.896 L127.913 439.197 Q129.996 440.332 132.219 440.887 Q134.441 441.443 136.918 441.443 Q140.922 441.443 143.26 439.336 Q145.598 437.23 145.598 433.619 Q145.598 430.008 143.26 427.901 Q140.922 425.795 136.918 425.795 Q135.043 425.795 133.168 426.211 Q131.316 426.628 129.371 427.508 L129.371 410.147 Z\" fill=\"#000000\" fill-rule=\"nonzero\" fill-opacity=\"1\" /><path clip-path=\"url(#clip610)\" d=\"M53.7467 101.321 L61.3856 101.321 L61.3856 74.9555 L53.0754 76.6222 L53.0754 72.3629 L61.3393 70.6963 L66.0152 70.6963 L66.0152 101.321 L73.654 101.321 L73.654 105.256 L53.7467 105.256 L53.7467 101.321 Z\" fill=\"#000000\" fill-rule=\"nonzero\" fill-opacity=\"1\" /><path clip-path=\"url(#clip610)\" d=\"M83.0984 99.3767 L87.9827 99.3767 L87.9827 105.256 L83.0984 105.256 L83.0984 99.3767 Z\" fill=\"#000000\" fill-rule=\"nonzero\" fill-opacity=\"1\" /><path clip-path=\"url(#clip610)\" d=\"M108.168 73.775 Q104.557 73.775 102.728 77.3398 Q100.922 80.8814 100.922 88.011 Q100.922 95.1174 102.728 98.6822 Q104.557 102.224 108.168 102.224 Q111.802 102.224 113.608 98.6822 Q115.436 95.1174 115.436 88.011 Q115.436 80.8814 113.608 77.3398 Q111.802 73.775 108.168 73.775 M108.168 70.0713 Q113.978 70.0713 117.033 74.6777 Q120.112 79.261 120.112 88.011 Q120.112 96.7378 117.033 101.344 Q113.978 105.928 108.168 105.928 Q102.358 105.928 99.2789 101.344 Q96.2234 96.7378 96.2234 88.011 Q96.2234 79.261 99.2789 74.6777 Q102.358 70.0713 108.168 70.0713 Z\" fill=\"#000000\" fill-rule=\"nonzero\" fill-opacity=\"1\" /><path clip-path=\"url(#clip610)\" d=\"M138.33 73.775 Q134.719 73.775 132.89 77.3398 Q131.084 80.8814 131.084 88.011 Q131.084 95.1174 132.89 98.6822 Q134.719 102.224 138.33 102.224 Q141.964 102.224 143.769 98.6822 Q145.598 95.1174 145.598 88.011 Q145.598 80.8814 143.769 77.3398 Q141.964 73.775 138.33 73.775 M138.33 70.0713 Q144.14 70.0713 147.195 74.6777 Q150.274 79.261 150.274 88.011 Q150.274 96.7378 147.195 101.344 Q144.14 105.928 138.33 105.928 Q132.519 105.928 129.441 101.344 Q126.385 96.7378 126.385 88.011 Q126.385 79.261 129.441 74.6777 Q132.519 70.0713 138.33 70.0713 Z\" fill=\"#000000\" fill-rule=\"nonzero\" fill-opacity=\"1\" /><polyline clip-path=\"url(#clip612)\" style=\"stroke:#009af9; stroke-linecap:round; stroke-linejoin:round; stroke-width:4; stroke-opacity:1; fill:none\" points=\"247.59,87.9763 268.032,217.213 317.506,481.347 381.543,740.759 458.365,961.646 548.228,1133.88 649.402,1255.65 760.94,1335.62 881.288,1384.64 1009.29,1413.09 1143.75,1428.85 1283.8,1437.25 1428.86,1441.58 1578.85,1443.76 1734.4,1444.84 1897.27,1445.35 2070.48,1445.6 2258.32,1445.7 2291.44,1445.72 \"/>\n",
       "<path clip-path=\"url(#clip610)\" d=\"M2011.46 198.898 L2280.54 198.898 L2280.54 95.2176 L2011.46 95.2176  Z\" fill=\"#ffffff\" fill-rule=\"evenodd\" fill-opacity=\"1\"/>\n",
       "<polyline clip-path=\"url(#clip610)\" style=\"stroke:#000000; stroke-linecap:round; stroke-linejoin:round; stroke-width:4; stroke-opacity:1; fill:none\" points=\"2011.46,198.898 2280.54,198.898 2280.54,95.2176 2011.46,95.2176 2011.46,198.898 \"/>\n",
       "<polyline clip-path=\"url(#clip610)\" style=\"stroke:#009af9; stroke-linecap:round; stroke-linejoin:round; stroke-width:4; stroke-opacity:1; fill:none\" points=\"2035.53,147.058 2179.97,147.058 \"/>\n",
       "<path clip-path=\"url(#clip610)\" d=\"M2217.88 166.745 Q2216.07 171.375 2214.36 172.787 Q2212.65 174.199 2209.78 174.199 L2206.38 174.199 L2206.38 170.634 L2208.88 170.634 Q2210.63 170.634 2211.61 169.8 Q2212.58 168.967 2213.76 165.865 L2214.52 163.921 L2204.04 138.412 L2208.55 138.412 L2216.65 158.689 L2224.76 138.412 L2229.27 138.412 L2217.88 166.745 Z\" fill=\"#000000\" fill-rule=\"nonzero\" fill-opacity=\"1\" /><path clip-path=\"url(#clip610)\" d=\"M2236.56 160.402 L2244.2 160.402 L2244.2 134.037 L2235.89 135.703 L2235.89 131.444 L2244.15 129.778 L2248.83 129.778 L2248.83 160.402 L2256.47 160.402 L2256.47 164.338 L2236.56 164.338 L2236.56 160.402 Z\" fill=\"#000000\" fill-rule=\"nonzero\" fill-opacity=\"1\" /></svg>\n"
      ]
     },
     "execution_count": 7,
     "metadata": {},
     "output_type": "execute_result"
    }
   ],
   "source": [
    "using Plots\n",
    "\n",
    "plot(solution.t, solution[x])"
   ]
  },
  {
   "cell_type": "markdown",
   "id": "ef2fea0e-af5d-4163-8da1-b4a4d3ef26a7",
   "metadata": {},
   "source": [
    "# PlanarPendulum.jl"
   ]
  },
  {
   "cell_type": "markdown",
   "id": "b296d781-2085-4dbc-82c7-14e060f3d6a5",
   "metadata": {},
   "source": [
    "Let's bow look at actual physical system now: a planar (2D) pendulum."
   ]
  },
  {
   "cell_type": "markdown",
   "id": "aa862be1-8524-491d-b8f3-9d8d15855d6c",
   "metadata": {},
   "source": [
    "Julia also lets us use unicode characters. For example, the mathematical constant Pi can be acessed by typing \"\\pi\" (without the quotation marks."
   ]
  },
  {
   "cell_type": "code",
   "execution_count": 8,
   "id": "7fb89849-6aec-43bd-866a-33bb18b23240",
   "metadata": {},
   "outputs": [
    {
     "data": {
      "text/plain": [
       "π = 3.1415926535897..."
      ]
     },
     "execution_count": 8,
     "metadata": {},
     "output_type": "execute_result"
    }
   ],
   "source": [
    "π"
   ]
  },
  {
   "cell_type": "code",
   "execution_count": 9,
   "id": "2e87e9a6-1406-4b11-82dd-9894d73354cb",
   "metadata": {},
   "outputs": [
    {
     "data": {
      "text/latex": [
       "$$ \\begin{equation}\n",
       "\\left[\n",
       "\\begin{array}{c}\n",
       "m \\\\\n",
       "g \\\\\n",
       "L \\\\\n",
       "\\end{array}\n",
       "\\right]\n",
       "\\end{equation}\n",
       " $$"
      ],
      "text/plain": [
       "3-element Vector{Num}:\n",
       " m\n",
       " g\n",
       " L"
      ]
     },
     "execution_count": 9,
     "metadata": {},
     "output_type": "execute_result"
    }
   ],
   "source": [
    "p = @parameters m=1 g=9.81 L=0.5"
   ]
  },
  {
   "cell_type": "code",
   "execution_count": 10,
   "id": "331d1085-18d9-47d0-af72-efe76d62343c",
   "metadata": {},
   "outputs": [
    {
     "data": {
      "text/latex": [
       "$$ \\begin{equation}\n",
       "\\left[\n",
       "\\begin{array}{c}\n",
       "F\\left( t \\right) \\\\\n",
       "x\\left( t \\right) \\\\\n",
       "y\\left( t \\right) \\\\\n",
       "\\mathrm{vx}\\left( t \\right) \\\\\n",
       "\\mathrm{vy}\\left( t \\right) \\\\\n",
       "\\end{array}\n",
       "\\right]\n",
       "\\end{equation}\n",
       " $$"
      ],
      "text/plain": [
       "5-element Vector{Num}:\n",
       "      F(t)\n",
       "  x(t)\n",
       "  y(t)\n",
       " vx(t)\n",
       " vy(t)"
      ]
     },
     "execution_count": 10,
     "metadata": {},
     "output_type": "execute_result"
    }
   ],
   "source": [
    "v = @variables F(t) x(t)=0.5 y(t)=0.0 vx(t)=0.0 vy(t)=0.0"
   ]
  },
  {
   "cell_type": "code",
   "execution_count": 15,
   "id": "8f528fcb-7d41-4548-8a7d-bd0c3fa0881a",
   "metadata": {},
   "outputs": [
    {
     "data": {
      "text/latex": [
       "$$ \\begin{align}\n",
       "m \\frac{\\mathrm{d} \\mathrm{vx}\\left( t \\right)}{\\mathrm{d}t} =& \\frac{F\\left( t \\right) x\\left( t \\right)}{L} \\\\\n",
       "m \\frac{\\mathrm{d} \\mathrm{vy}\\left( t \\right)}{\\mathrm{d}t} =& \\frac{F\\left( t \\right) y\\left( t \\right)}{L} \\\\\n",
       "\\frac{\\mathrm{d} x\\left( t \\right)}{\\mathrm{d}t} =& \\mathrm{vx}\\left( t \\right) \\\\\n",
       "\\frac{\\mathrm{d} y\\left( t \\right)}{\\mathrm{d}t} =& \\mathrm{vy}\\left( t \\right) \\\\\n",
       "\\left( x\\left( t \\right) \\right)^{2} + \\left( y\\left( t \\right) \\right)^{2} =& L^{2}\n",
       "\\end{align}\n",
       " $$"
      ],
      "text/plain": [
       "5-element Vector{Equation}:\n",
       " m*Differential(t)(vx(t)) ~ (F(t)*x(t)) / L\n",
       " m*Differential(t)(vy(t)) ~ (F(t)*y(t)) / L\n",
       " Differential(t)(x(t)) ~ vx(t)\n",
       " Differential(t)(y(t)) ~ vy(t)\n",
       " x(t)^2 + y(t)^2 ~ L^2"
      ]
     },
     "execution_count": 15,
     "metadata": {},
     "output_type": "execute_result"
    }
   ],
   "source": [
    "pendulum_eqs = [m*D(vx) ~ (x/L)*F\n",
    "            m*D(vy) ~ (y/L)*F\n",
    "            D(x) ~ vx\n",
    "            D(y) ~ vy\n",
    "            x^2 + y^2 ~ L^2]"
   ]
  },
  {
   "cell_type": "code",
   "execution_count": 16,
   "id": "080557a5-c1ce-4fec-a0e7-ddb9d9a57e86",
   "metadata": {},
   "outputs": [
    {
     "data": {
      "text/latex": [
       "$$ \\begin{align}\n",
       "m \\frac{\\mathrm{d} \\mathrm{vx}\\left( t \\right)}{\\mathrm{d}t} =& \\frac{F\\left( t \\right) x\\left( t \\right)}{L} \\\\\n",
       "m \\frac{\\mathrm{d} \\mathrm{vy}\\left( t \\right)}{\\mathrm{d}t} =& \\frac{F\\left( t \\right) y\\left( t \\right)}{L} \\\\\n",
       "\\frac{\\mathrm{d} x\\left( t \\right)}{\\mathrm{d}t} =& \\mathrm{vx}\\left( t \\right) \\\\\n",
       "\\frac{\\mathrm{d} y\\left( t \\right)}{\\mathrm{d}t} =& \\mathrm{vy}\\left( t \\right) \\\\\n",
       "\\left( x\\left( t \\right) \\right)^{2} + \\left( y\\left( t \\right) \\right)^{2} =& L^{2}\n",
       "\\end{align}\n",
       " $$"
      ],
      "text/plain": [
       "\u001b[0m\u001b[1mModel pendulum_sys with 5 \u001b[22m\u001b[0m\u001b[1mequations\u001b[22m\n",
       "\u001b[0m\u001b[1mStates (5):\u001b[22m\n",
       "  F(t)\n",
       "  x(t) [defaults to 0.5]\n",
       "  y(t) [defaults to 0.0]\n",
       "  vx(t) [defaults to 0.0]\n",
       "  vy(t) [defaults to 0.0]\n",
       "\u001b[0m\u001b[1mParameters (3):\u001b[22m\n",
       "  m [defaults to 1]\n",
       "  g [defaults to 9.81]\n",
       "  L [defaults to 0.5]"
      ]
     },
     "execution_count": 16,
     "metadata": {},
     "output_type": "execute_result"
    }
   ],
   "source": [
    "@named pendulum_sys = ODESystem(pendulum_eqs, t, v, p)"
   ]
  },
  {
   "cell_type": "markdown",
   "id": "61015543-76b2-458e-bb70-5ad7d6964d3b",
   "metadata": {},
   "source": [
    "Do you notice anything about this system? Let's take a deeper look at the variables and equations.."
   ]
  },
  {
   "cell_type": "code",
   "execution_count": 17,
   "id": "49d34c97-79f6-4bbf-8391-ff83499bf7f5",
   "metadata": {},
   "outputs": [
    {
     "data": {
      "text/plain": [
       "5-element Vector{SymbolicUtils.BasicSymbolic{Real}}:\n",
       " F(t)\n",
       " x(t)\n",
       " y(t)\n",
       " vx(t)\n",
       " vy(t)"
      ]
     },
     "execution_count": 17,
     "metadata": {},
     "output_type": "execute_result"
    }
   ],
   "source": [
    "states(pendulum_sys)"
   ]
  },
  {
   "cell_type": "code",
   "execution_count": 19,
   "id": "2df41355-e2a4-43f2-97e7-13a0d2a34902",
   "metadata": {},
   "outputs": [
    {
     "data": {
      "text/latex": [
       "$$ \\begin{align}\n",
       "m \\frac{\\mathrm{d} \\mathrm{vx}\\left( t \\right)}{\\mathrm{d}t} =& \\frac{F\\left( t \\right) x\\left( t \\right)}{L} \\\\\n",
       "m \\frac{\\mathrm{d} \\mathrm{vy}\\left( t \\right)}{\\mathrm{d}t} =& \\frac{F\\left( t \\right) y\\left( t \\right)}{L} \\\\\n",
       "\\frac{\\mathrm{d} x\\left( t \\right)}{\\mathrm{d}t} =& \\mathrm{vx}\\left( t \\right) \\\\\n",
       "\\frac{\\mathrm{d} y\\left( t \\right)}{\\mathrm{d}t} =& \\mathrm{vy}\\left( t \\right) \\\\\n",
       "\\left( x\\left( t \\right) \\right)^{2} + \\left( y\\left( t \\right) \\right)^{2} =& L^{2}\n",
       "\\end{align}\n",
       " $$"
      ],
      "text/plain": [
       "5-element Vector{Equation}:\n",
       " m*Differential(t)(vx(t)) ~ (F(t)*x(t)) / L\n",
       " m*Differential(t)(vy(t)) ~ (F(t)*y(t)) / L\n",
       " Differential(t)(x(t)) ~ vx(t)\n",
       " Differential(t)(y(t)) ~ vy(t)\n",
       " x(t)^2 + y(t)^2 ~ L^2"
      ]
     },
     "execution_count": 19,
     "metadata": {},
     "output_type": "execute_result"
    }
   ],
   "source": [
    "equations(pendulum_sys)"
   ]
  },
  {
   "cell_type": "code",
   "execution_count": 21,
   "id": "bd6b3e49-895c-40dc-a49a-c4ad8382078f",
   "metadata": {},
   "outputs": [
    {
     "data": {
      "text/plain": [
       "3-element Vector{SymbolicUtils.BasicSymbolic{Real}}:\n",
       " m\n",
       " g\n",
       " L"
      ]
     },
     "execution_count": 21,
     "metadata": {},
     "output_type": "execute_result"
    }
   ],
   "source": [
    "parameters(pendulum_sys)"
   ]
  },
  {
   "cell_type": "markdown",
   "id": "cd4de06a-4646-4004-b847-37b5990a18c4",
   "metadata": {},
   "source": [
    "Interestingly enough, we don't actually have any explicit equation for F - the force acting back up along the pendulum. Is this an oversight perhaps? Surely we can't in general assume this to be a constant. We can instead take advantage of something ModelingToolkit refers to as 'Structural Simplify'. This uses the symbolic engine that underpins ModelingToolkit, as well as some other mathematical algorithms and tricks to reduce the 'order' of the model and simplify it down into its least complex form (and thus easiest to solve)."
   ]
  },
  {
   "cell_type": "code",
   "execution_count": 20,
   "id": "fb0c9ea5-ea46-4bb6-bda2-a1b2452af239",
   "metadata": {},
   "outputs": [
    {
     "data": {
      "text/latex": [
       "$$ \\begin{align}\n",
       "\\frac{\\mathrm{d} y\\left( t \\right)}{\\mathrm{d}t} =& \\mathrm{vy}\\left( t \\right) \\\\\n",
       "\\frac{\\mathrm{d} \\mathrm{vy}\\left( t \\right)}{\\mathrm{d}t} =& vyˍt\\left( t \\right) \\\\\n",
       "0 =& L^{2} - \\left( x\\left( t \\right) \\right)^{2} - \\left( y\\left( t \\right) \\right)^{2} \\\\\n",
       "0 =&  - 2 \\mathrm{vy}\\left( t \\right) y\\left( t \\right) - 2 x\\left( t \\right) xˍt\\left( t \\right) \\\\\n",
       "0 =&  - 2 \\left( \\mathrm{vy}\\left( t \\right) \\right)^{2} - 2 \\left( xˍt\\left( t \\right) \\right)^{2} - 2 x\\left( t \\right) xˍtt\\left( t \\right) - 2 vyˍt\\left( t \\right) y\\left( t \\right)\n",
       "\\end{align}\n",
       " $$"
      ],
      "text/plain": [
       "\u001b[0m\u001b[1mModel pendulum_sys with 5 \u001b[22m\u001b[0m\u001b[1mequations\u001b[22m\n",
       "\u001b[0m\u001b[1mStates (5):\u001b[22m\n",
       "  y(t) [defaults to 0.0]\n",
       "  vy(t) [defaults to 0.0]\n",
       "  xˍt(t)\n",
       "  x(t) [defaults to 0.5]\n",
       "  F(t)\n",
       "\u001b[0m\u001b[1mParameters (3):\u001b[22m\n",
       "  m [defaults to 1]\n",
       "  g [defaults to 9.81]\n",
       "  L [defaults to 0.5]\n",
       "\u001b[35mIncidence matrix:\u001b[39m5×7 SparseArrays.SparseMatrixCSC{Num, Int64} with 15 stored entries:\n",
       " ⋅  ×  ⋅  ×  ⋅  ⋅  ⋅\n",
       " ×  ⋅  ⋅  ⋅  ⋅  ×  ×\n",
       " ×  ⋅  ⋅  ⋅  ×  ⋅  ⋅\n",
       " ×  ⋅  ×  ⋅  ×  ⋅  ⋅\n",
       " ×  ⋅  ×  ×  ×  ×  ⋅"
      ]
     },
     "execution_count": 20,
     "metadata": {},
     "output_type": "execute_result"
    }
   ],
   "source": [
    "simp_pendulum_sys = structural_simplify(pendulum_sys)"
   ]
  },
  {
   "cell_type": "markdown",
   "id": "09898934-0351-442c-ab77-51cf698673ba",
   "metadata": {},
   "source": [
    "We"
   ]
  },
  {
   "cell_type": "code",
   "execution_count": 22,
   "id": "767a81c8-755a-43e3-8a30-f04cf974f505",
   "metadata": {},
   "outputs": [
    {
     "data": {
      "text/plain": [
       "5-element Vector{Any}:\n",
       " y(t)\n",
       " vy(t)\n",
       " xˍt(t)\n",
       " x(t)\n",
       " F(t)"
      ]
     },
     "execution_count": 22,
     "metadata": {},
     "output_type": "execute_result"
    }
   ],
   "source": [
    "states(simp_pendulum_sys)"
   ]
  },
  {
   "cell_type": "code",
   "execution_count": 23,
   "id": "e6ac0ff4-9df5-4391-8495-c84be87f347f",
   "metadata": {},
   "outputs": [
    {
     "data": {
      "text/latex": [
       "$$ \\begin{align}\n",
       "\\frac{\\mathrm{d} y\\left( t \\right)}{\\mathrm{d}t} =& \\mathrm{vy}\\left( t \\right) \\\\\n",
       "\\frac{\\mathrm{d} \\mathrm{vy}\\left( t \\right)}{\\mathrm{d}t} =& vyˍt\\left( t \\right) \\\\\n",
       "0 =& L^{2} - \\left( x\\left( t \\right) \\right)^{2} - \\left( y\\left( t \\right) \\right)^{2} \\\\\n",
       "0 =&  - 2 \\mathrm{vy}\\left( t \\right) y\\left( t \\right) - 2 x\\left( t \\right) xˍt\\left( t \\right) \\\\\n",
       "0 =&  - 2 \\left( \\mathrm{vy}\\left( t \\right) \\right)^{2} - 2 \\left( xˍt\\left( t \\right) \\right)^{2} - 2 x\\left( t \\right) xˍtt\\left( t \\right) - 2 vyˍt\\left( t \\right) y\\left( t \\right)\n",
       "\\end{align}\n",
       " $$"
      ],
      "text/plain": [
       "5-element Vector{Equation}:\n",
       " Differential(t)(y(t)) ~ vy(t)\n",
       " Differential(t)(vy(t)) ~ vyˍt(t)\n",
       " 0 ~ L^2 - (x(t)^2) - (y(t)^2)\n",
       " 0 ~ -2vy(t)*y(t) - 2x(t)*xˍt(t)\n",
       " 0 ~ -2(vy(t)^2) - 2(xˍt(t)^2) - 2x(t)*xˍtt(t) - 2vyˍt(t)*y(t)"
      ]
     },
     "execution_count": 23,
     "metadata": {},
     "output_type": "execute_result"
    }
   ],
   "source": [
    "equations(simp_pendulum_sys)"
   ]
  },
  {
   "cell_type": "code",
   "execution_count": 24,
   "id": "d63ec62a-cc76-413f-bc5f-937159b11140",
   "metadata": {},
   "outputs": [
    {
     "data": {
      "text/plain": [
       "3-element Vector{SymbolicUtils.BasicSymbolic{Real}}:\n",
       " m\n",
       " g\n",
       " L"
      ]
     },
     "execution_count": 24,
     "metadata": {},
     "output_type": "execute_result"
    }
   ],
   "source": [
    "parameters(simp_pendulum_sys)"
   ]
  },
  {
   "cell_type": "code",
   "execution_count": null,
   "id": "35289791-fa9c-4974-859e-0577fdacdca4",
   "metadata": {},
   "outputs": [],
   "source": []
  },
  {
   "cell_type": "code",
   "execution_count": 25,
   "id": "5b1bfd69-14f7-4e22-9794-6cc55516cc10",
   "metadata": {},
   "outputs": [],
   "source": [
    "# VanderPol.jl"
   ]
  },
  {
   "cell_type": "markdown",
   "id": "0c8a7343-98a6-40a0-a516-3ea0931d37a9",
   "metadata": {},
   "source": [
    "model Van,DerPol \"Van der Pol oscillator model\"\n",
    "   Real x(start = 1) \"Descriptive string for x\";   // x starts at 1\n",
    "   Real y(start = 1) \"Descriptive string for y\";   // y starts at 1\n",
    "   parameter Real lambda = 0.3;\n",
    "equation\n",
    "   der(x) = y;                         // This is the first equation\n",
    "   der(y) = -x + lambda*(1 - x*x)*y;   /* The 2nd differential equation */\n",
    "end VanDerPol;\n",
    "\n",
    "Fritzson, Peter. Principles of Object-Oriented Modeling and Simulation with Modelica 3.3: A Cyber-Physical Approach (pp. 22-23). Wiley. Kindle Edition. "
   ]
  },
  {
   "cell_type": "code",
   "execution_count": 29,
   "id": "52a54567-5718-4ed5-b89f-6a13ed1d11e4",
   "metadata": {},
   "outputs": [
    {
     "data": {
      "text/plain": [
       "VanDerPol (generic function with 1 method)"
      ]
     },
     "execution_count": 29,
     "metadata": {},
     "output_type": "execute_result"
    }
   ],
   "source": [
    "function VanDerPol(;name=name)\n",
    "    v = @variables begin\n",
    "        x(t)=1 \n",
    "        y(t)=1\n",
    "    end\n",
    "    p= @parameters begin\n",
    "        λ=0.3\n",
    "    end\n",
    "    D = Differential(t)\n",
    "    eqs = [\n",
    "            D(x) ~ y\n",
    "            D(y) ~ -x + λ*(1 - x*x)*y\n",
    "        ]\n",
    "    return ODESystem(eqs, t, v, p;name=name)\n",
    "end"
   ]
  },
  {
   "cell_type": "code",
   "execution_count": 30,
   "id": "5ee6ea37-6d12-48a2-958b-239c9d58bd72",
   "metadata": {},
   "outputs": [
    {
     "data": {
      "text/latex": [
       "$$ \\begin{align}\n",
       "\\frac{\\mathrm{d} x\\left( t \\right)}{\\mathrm{d}t} =& y\\left( t \\right) \\\\\n",
       "\\frac{\\mathrm{d} y\\left( t \\right)}{\\mathrm{d}t} =&  - x\\left( t \\right) + \\lambda \\left( 1 - \\left( x\\left( t \\right) \\right)^{2} \\right) y\\left( t \\right)\n",
       "\\end{align}\n",
       " $$"
      ],
      "text/plain": [
       "\u001b[0m\u001b[1mModel vdp with 2 \u001b[22m\u001b[0m\u001b[1mequations\u001b[22m\n",
       "\u001b[0m\u001b[1mStates (2):\u001b[22m\n",
       "  x(t) [defaults to 1]\n",
       "  y(t) [defaults to 1]\n",
       "\u001b[0m\u001b[1mParameters (1):\u001b[22m\n",
       "  λ [defaults to 0.3]"
      ]
     },
     "execution_count": 30,
     "metadata": {},
     "output_type": "execute_result"
    }
   ],
   "source": [
    "@named vdp = VanDerPol()"
   ]
  },
  {
   "cell_type": "code",
   "execution_count": 36,
   "id": "31d3ea4f-f0bc-420e-b5b1-10dc4d5572e9",
   "metadata": {},
   "outputs": [
    {
     "data": {
      "text/plain": [
       "\u001b[38;2;86;182;194mODEProblem\u001b[0m with uType \u001b[38;2;86;182;194mVector{Float64}\u001b[0m and tType \u001b[38;2;86;182;194mFloat64\u001b[0m. In-place: \u001b[38;2;86;182;194mtrue\u001b[0m\n",
       "timespan: (0.0, 25.0)\n",
       "u0: 2-element Vector{Float64}:\n",
       " 1.0\n",
       " 1.0"
      ]
     },
     "execution_count": 36,
     "metadata": {},
     "output_type": "execute_result"
    }
   ],
   "source": [
    "vdp_prob = ODEProblem(vdp, [], (0.0, 25), [])"
   ]
  },
  {
   "cell_type": "code",
   "execution_count": 37,
   "id": "a161c568-5de6-4470-af7b-9e496ffd9a9b",
   "metadata": {},
   "outputs": [
    {
     "data": {
      "text/plain": [
       "retcode: Success\n",
       "Interpolation: specialized 4th order \"free\" interpolation, specialized 2nd order \"free\" stiffness-aware interpolation\n",
       "t: 42-element Vector{Float64}:\n",
       "  0.0\n",
       "  0.09444155921128272\n",
       "  0.309629301412104\n",
       "  0.5947931682415029\n",
       "  1.0272087231489304\n",
       "  1.350861389002272\n",
       "  1.8677516962291558\n",
       "  2.5097663128038454\n",
       "  3.094011268222774\n",
       "  3.6480787323433335\n",
       "  4.279461734181725\n",
       "  4.826811307817099\n",
       "  5.726418375092363\n",
       "  ⋮\n",
       " 17.90380736203529\n",
       " 18.65602412236354\n",
       " 19.34135698216835\n",
       " 19.960174427419904\n",
       " 20.610451903373203\n",
       " 21.387928032927068\n",
       " 22.112858143599883\n",
       " 22.727650928934803\n",
       " 23.312058106018096\n",
       " 24.01966875182814\n",
       " 24.75303951482844\n",
       " 25.0\n",
       "u: 42-element Vector{Vector{Float64}}:\n",
       " [1.0, 1.0]\n",
       " [1.0897650568937054, 0.8987547257336784]\n",
       " [1.2547662823377186, 0.6268103224592071]\n",
       " [1.3763093826519082, 0.2222305168892445]\n",
       " [1.3422668557468618, -0.36607674374503335]\n",
       " [1.1612016705494401, -0.7435587217072143]\n",
       " [0.6420946422915489, -1.2464390054124628]\n",
       " [-0.30306352790370766, -1.6228497771362917]\n",
       " [-1.1938451354198851, -1.2759109776924222]\n",
       " [-1.6481445756608466, -0.322261194769457]\n",
       " [-1.523794057691031, 0.6548767734027865]\n",
       " [-0.9927028478408177, 1.2620303756621543]\n",
       " [0.4801578575193517, 1.8686832280814758]\n",
       " ⋮\n",
       " [-0.3644769776877478, 1.8745701152276522]\n",
       " [1.1524716677247695, 1.8773881459860369]\n",
       " [1.9655552737989517, 0.3846256938805222]\n",
       " [1.829914049730848, -0.7184316192528686]\n",
       " [1.1168926307139633, -1.4425397396096657]\n",
       " [-0.28385293227440567, -2.0782856904205618]\n",
       " [-1.6392858157176182, -1.3218363135469997]\n",
       " [-2.0003212076803547, 0.09613989902347304]\n",
       " [-1.6705856151885428, 0.9580233653612626]\n",
       " [-0.7264102622475116, 1.692081772113522]\n",
       " [0.7135895827038999, 2.0726878261321606]\n",
       " [1.2025644564512656, 1.8440397717165717]"
      ]
     },
     "execution_count": 37,
     "metadata": {},
     "output_type": "execute_result"
    }
   ],
   "source": [
    "vdp_sol = solve(vdp_prob)"
   ]
  },
  {
   "cell_type": "code",
   "execution_count": 38,
   "id": "136706fd-d709-43ce-947c-f0d09000259b",
   "metadata": {},
   "outputs": [
    {
     "data": {
      "image/png": "[encoded data removed]",
      "image/svg+xml": [
       "<?xml version=\"1.0\" encoding=\"utf-8\"?>\n",
       "<svg xmlns=\"http://www.w3.org/2000/svg\" xmlns:xlink=\"http://www.w3.org/1999/xlink\" width=\"600\" height=\"400\" viewBox=\"0 0 2400 1600\">\n",
       "<defs>\n",
       "  <clipPath id=\"clip650\">\n",
       "    <rect x=\"0\" y=\"0\" width=\"2400\" height=\"1600\"/>\n",
       "  </clipPath>\n",
       "</defs>\n",
       "<path clip-path=\"url(#clip650)\" d=\"M0 1600 L2400 1600 L2400 0 L0 0  Z\" fill=\"#ffffff\" fill-rule=\"evenodd\" fill-opacity=\"1\"/>\n",
       "<defs>\n",
       "  <clipPath id=\"clip651\">\n",
       "    <rect x=\"480\" y=\"0\" width=\"1681\" height=\"1600\"/>\n",
       "  </clipPath>\n",
       "</defs>\n",
       "<path clip-path=\"url(#clip650)\" d=\"M147.478 1486.45 L2352.76 1486.45 L2352.76 47.2441 L147.478 47.2441  Z\" fill=\"#ffffff\" fill-rule=\"evenodd\" fill-opacity=\"1\"/>\n",
       "<defs>\n",
       "  <clipPath id=\"clip652\">\n",
       "    <rect x=\"147\" y=\"47\" width=\"2206\" height=\"1440\"/>\n",
       "  </clipPath>\n",
       "</defs>\n",
       "<polyline clip-path=\"url(#clip652)\" style=\"stroke:#000000; stroke-linecap:round; stroke-linejoin:round; stroke-width:2; stroke-opacity:0.1; fill:none\" points=\"210.059,1486.45 210.059,47.2441 \"/>\n",
       "<polyline clip-path=\"url(#clip652)\" style=\"stroke:#000000; stroke-linecap:round; stroke-linejoin:round; stroke-width:2; stroke-opacity:0.1; fill:none\" points=\"733.178,1486.45 733.178,47.2441 \"/>\n",
       "<polyline clip-path=\"url(#clip652)\" style=\"stroke:#000000; stroke-linecap:round; stroke-linejoin:round; stroke-width:2; stroke-opacity:0.1; fill:none\" points=\"1256.3,1486.45 1256.3,47.2441 \"/>\n",
       "<polyline clip-path=\"url(#clip652)\" style=\"stroke:#000000; stroke-linecap:round; stroke-linejoin:round; stroke-width:2; stroke-opacity:0.1; fill:none\" points=\"1779.42,1486.45 1779.42,47.2441 \"/>\n",
       "<polyline clip-path=\"url(#clip652)\" style=\"stroke:#000000; stroke-linecap:round; stroke-linejoin:round; stroke-width:2; stroke-opacity:0.1; fill:none\" points=\"2302.53,1486.45 2302.53,47.2441 \"/>\n",
       "<polyline clip-path=\"url(#clip650)\" style=\"stroke:#000000; stroke-linecap:round; stroke-linejoin:round; stroke-width:4; stroke-opacity:1; fill:none\" points=\"147.478,1486.45 2352.76,1486.45 \"/>\n",
       "<polyline clip-path=\"url(#clip650)\" style=\"stroke:#000000; stroke-linecap:round; stroke-linejoin:round; stroke-width:4; stroke-opacity:1; fill:none\" points=\"210.059,1486.45 210.059,1467.55 \"/>\n",
       "<polyline clip-path=\"url(#clip650)\" style=\"stroke:#000000; stroke-linecap:round; stroke-linejoin:round; stroke-width:4; stroke-opacity:1; fill:none\" points=\"733.178,1486.45 733.178,1467.55 \"/>\n",
       "<polyline clip-path=\"url(#clip650)\" style=\"stroke:#000000; stroke-linecap:round; stroke-linejoin:round; stroke-width:4; stroke-opacity:1; fill:none\" points=\"1256.3,1486.45 1256.3,1467.55 \"/>\n",
       "<polyline clip-path=\"url(#clip650)\" style=\"stroke:#000000; stroke-linecap:round; stroke-linejoin:round; stroke-width:4; stroke-opacity:1; fill:none\" points=\"1779.42,1486.45 1779.42,1467.55 \"/>\n",
       "<polyline clip-path=\"url(#clip650)\" style=\"stroke:#000000; stroke-linecap:round; stroke-linejoin:round; stroke-width:4; stroke-opacity:1; fill:none\" points=\"2302.53,1486.45 2302.53,1467.55 \"/>\n",
       "<path clip-path=\"url(#clip650)\" d=\"M180.002 1532.02 L209.678 1532.02 L209.678 1535.95 L180.002 1535.95 L180.002 1532.02 Z\" fill=\"#000000\" fill-rule=\"nonzero\" fill-opacity=\"1\" /><path clip-path=\"url(#clip650)\" d=\"M223.798 1544.91 L240.117 1544.91 L240.117 1548.85 L218.173 1548.85 L218.173 1544.91 Q220.835 1542.16 225.418 1537.53 Q230.025 1532.88 231.205 1531.53 Q233.451 1529.01 234.33 1527.27 Q235.233 1525.51 235.233 1523.82 Q235.233 1521.07 233.289 1519.33 Q231.367 1517.6 228.265 1517.6 Q226.066 1517.6 223.613 1518.36 Q221.182 1519.13 218.404 1520.68 L218.404 1515.95 Q221.228 1514.82 223.682 1514.24 Q226.136 1513.66 228.173 1513.66 Q233.543 1513.66 236.738 1516.35 Q239.932 1519.03 239.932 1523.52 Q239.932 1525.65 239.122 1527.57 Q238.335 1529.47 236.228 1532.07 Q235.65 1532.74 232.548 1535.95 Q229.446 1539.15 223.798 1544.91 Z\" fill=\"#000000\" fill-rule=\"nonzero\" fill-opacity=\"1\" /><path clip-path=\"url(#clip650)\" d=\"M702.935 1532.02 L732.611 1532.02 L732.611 1535.95 L702.935 1535.95 L702.935 1532.02 Z\" fill=\"#000000\" fill-rule=\"nonzero\" fill-opacity=\"1\" /><path clip-path=\"url(#clip650)\" d=\"M743.514 1544.91 L751.153 1544.91 L751.153 1518.55 L742.843 1520.21 L742.843 1515.95 L751.106 1514.29 L755.782 1514.29 L755.782 1544.91 L763.421 1544.91 L763.421 1548.85 L743.514 1548.85 L743.514 1544.91 Z\" fill=\"#000000\" fill-rule=\"nonzero\" fill-opacity=\"1\" /><path clip-path=\"url(#clip650)\" d=\"M1256.3 1517.37 Q1252.69 1517.37 1250.86 1520.93 Q1249.05 1524.47 1249.05 1531.6 Q1249.05 1538.71 1250.86 1542.27 Q1252.69 1545.82 1256.3 1545.82 Q1259.93 1545.82 1261.74 1542.27 Q1263.57 1538.71 1263.57 1531.6 Q1263.57 1524.47 1261.74 1520.93 Q1259.93 1517.37 1256.3 1517.37 M1256.3 1513.66 Q1262.11 1513.66 1265.16 1518.27 Q1268.24 1522.85 1268.24 1531.6 Q1268.24 1540.33 1265.16 1544.94 Q1262.11 1549.52 1256.3 1549.52 Q1250.49 1549.52 1247.41 1544.94 Q1244.35 1540.33 1244.35 1531.6 Q1244.35 1522.85 1247.41 1518.27 Q1250.49 1513.66 1256.3 1513.66 Z\" fill=\"#000000\" fill-rule=\"nonzero\" fill-opacity=\"1\" /><path clip-path=\"url(#clip650)\" d=\"M1769.8 1544.91 L1777.44 1544.91 L1777.44 1518.55 L1769.13 1520.21 L1769.13 1515.95 L1777.39 1514.29 L1782.07 1514.29 L1782.07 1544.91 L1789.7 1544.91 L1789.7 1548.85 L1769.8 1548.85 L1769.8 1544.91 Z\" fill=\"#000000\" fill-rule=\"nonzero\" fill-opacity=\"1\" /><path clip-path=\"url(#clip650)\" d=\"M2297.19 1544.91 L2313.51 1544.91 L2313.51 1548.85 L2291.56 1548.85 L2291.56 1544.91 Q2294.22 1542.16 2298.81 1537.53 Q2303.41 1532.88 2304.59 1531.53 Q2306.84 1529.01 2307.72 1527.27 Q2308.62 1525.51 2308.62 1523.82 Q2308.62 1521.07 2306.68 1519.33 Q2304.76 1517.6 2301.65 1517.6 Q2299.46 1517.6 2297 1518.36 Q2294.57 1519.13 2291.79 1520.68 L2291.79 1515.95 Q2294.62 1514.82 2297.07 1514.24 Q2299.53 1513.66 2301.56 1513.66 Q2306.93 1513.66 2310.13 1516.35 Q2313.32 1519.03 2313.32 1523.52 Q2313.32 1525.65 2312.51 1527.57 Q2311.72 1529.47 2309.62 1532.07 Q2309.04 1532.74 2305.94 1535.95 Q2302.84 1539.15 2297.19 1544.91 Z\" fill=\"#000000\" fill-rule=\"nonzero\" fill-opacity=\"1\" /><polyline clip-path=\"url(#clip652)\" style=\"stroke:#000000; stroke-linecap:round; stroke-linejoin:round; stroke-width:2; stroke-opacity:0.1; fill:none\" points=\"147.478,1420.11 2352.76,1420.11 \"/>\n",
       "<polyline clip-path=\"url(#clip652)\" style=\"stroke:#000000; stroke-linecap:round; stroke-linejoin:round; stroke-width:2; stroke-opacity:0.1; fill:none\" points=\"147.478,1093.02 2352.76,1093.02 \"/>\n",
       "<polyline clip-path=\"url(#clip652)\" style=\"stroke:#000000; stroke-linecap:round; stroke-linejoin:round; stroke-width:2; stroke-opacity:0.1; fill:none\" points=\"147.478,765.93 2352.76,765.93 \"/>\n",
       "<polyline clip-path=\"url(#clip652)\" style=\"stroke:#000000; stroke-linecap:round; stroke-linejoin:round; stroke-width:2; stroke-opacity:0.1; fill:none\" points=\"147.478,438.841 2352.76,438.841 \"/>\n",
       "<polyline clip-path=\"url(#clip652)\" style=\"stroke:#000000; stroke-linecap:round; stroke-linejoin:round; stroke-width:2; stroke-opacity:0.1; fill:none\" points=\"147.478,111.752 2352.76,111.752 \"/>\n",
       "<polyline clip-path=\"url(#clip650)\" style=\"stroke:#000000; stroke-linecap:round; stroke-linejoin:round; stroke-width:4; stroke-opacity:1; fill:none\" points=\"147.478,1486.45 147.478,47.2441 \"/>\n",
       "<polyline clip-path=\"url(#clip650)\" style=\"stroke:#000000; stroke-linecap:round; stroke-linejoin:round; stroke-width:4; stroke-opacity:1; fill:none\" points=\"147.478,1420.11 166.376,1420.11 \"/>\n",
       "<polyline clip-path=\"url(#clip650)\" style=\"stroke:#000000; stroke-linecap:round; stroke-linejoin:round; stroke-width:4; stroke-opacity:1; fill:none\" points=\"147.478,1093.02 166.376,1093.02 \"/>\n",
       "<polyline clip-path=\"url(#clip650)\" style=\"stroke:#000000; stroke-linecap:round; stroke-linejoin:round; stroke-width:4; stroke-opacity:1; fill:none\" points=\"147.478,765.93 166.376,765.93 \"/>\n",
       "<polyline clip-path=\"url(#clip650)\" style=\"stroke:#000000; stroke-linecap:round; stroke-linejoin:round; stroke-width:4; stroke-opacity:1; fill:none\" points=\"147.478,438.841 166.376,438.841 \"/>\n",
       "<polyline clip-path=\"url(#clip650)\" style=\"stroke:#000000; stroke-linecap:round; stroke-linejoin:round; stroke-width:4; stroke-opacity:1; fill:none\" points=\"147.478,111.752 166.376,111.752 \"/>\n",
       "<path clip-path=\"url(#clip650)\" d=\"M51.3625 1420.56 L81.0383 1420.56 L81.0383 1424.5 L51.3625 1424.5 L51.3625 1420.56 Z\" fill=\"#000000\" fill-rule=\"nonzero\" fill-opacity=\"1\" /><path clip-path=\"url(#clip650)\" d=\"M95.1586 1433.45 L111.478 1433.45 L111.478 1437.39 L89.5336 1437.39 L89.5336 1433.45 Q92.1956 1430.7 96.7789 1426.07 Q101.385 1421.42 102.566 1420.07 Q104.811 1417.55 105.691 1415.82 Q106.594 1414.06 106.594 1412.37 Q106.594 1409.61 104.649 1407.88 Q102.728 1406.14 99.6261 1406.14 Q97.4271 1406.14 94.9734 1406.9 Q92.5428 1407.67 89.7651 1409.22 L89.7651 1404.5 Q92.5891 1403.36 95.0428 1402.78 Q97.4965 1402.2 99.5335 1402.2 Q104.904 1402.2 108.098 1404.89 Q111.293 1407.57 111.293 1412.07 Q111.293 1414.19 110.483 1416.12 Q109.696 1418.01 107.589 1420.61 Q107.01 1421.28 103.909 1424.5 Q100.807 1427.69 95.1586 1433.45 Z\" fill=\"#000000\" fill-rule=\"nonzero\" fill-opacity=\"1\" /><path clip-path=\"url(#clip650)\" d=\"M50.9921 1093.47 L80.6679 1093.47 L80.6679 1097.41 L50.9921 1097.41 L50.9921 1093.47 Z\" fill=\"#000000\" fill-rule=\"nonzero\" fill-opacity=\"1\" /><path clip-path=\"url(#clip650)\" d=\"M91.5706 1106.36 L99.2095 1106.36 L99.2095 1080 L90.8993 1081.67 L90.8993 1077.41 L99.1632 1075.74 L103.839 1075.74 L103.839 1106.36 L111.478 1106.36 L111.478 1110.3 L91.5706 1110.3 L91.5706 1106.36 Z\" fill=\"#000000\" fill-rule=\"nonzero\" fill-opacity=\"1\" /><path clip-path=\"url(#clip650)\" d=\"M99.5335 751.729 Q95.9224 751.729 94.0937 755.294 Q92.2882 758.836 92.2882 765.965 Q92.2882 773.072 94.0937 776.636 Q95.9224 780.178 99.5335 780.178 Q103.168 780.178 104.973 776.636 Q106.802 773.072 106.802 765.965 Q106.802 758.836 104.973 755.294 Q103.168 751.729 99.5335 751.729 M99.5335 748.025 Q105.344 748.025 108.399 752.632 Q111.478 757.215 111.478 765.965 Q111.478 774.692 108.399 779.298 Q105.344 783.882 99.5335 783.882 Q93.7234 783.882 90.6447 779.298 Q87.5892 774.692 87.5892 765.965 Q87.5892 757.215 90.6447 752.632 Q93.7234 748.025 99.5335 748.025 Z\" fill=\"#000000\" fill-rule=\"nonzero\" fill-opacity=\"1\" /><path clip-path=\"url(#clip650)\" d=\"M91.5706 452.186 L99.2095 452.186 L99.2095 425.82 L90.8993 427.487 L90.8993 423.228 L99.1632 421.561 L103.839 421.561 L103.839 452.186 L111.478 452.186 L111.478 456.121 L91.5706 456.121 L91.5706 452.186 Z\" fill=\"#000000\" fill-rule=\"nonzero\" fill-opacity=\"1\" /><path clip-path=\"url(#clip650)\" d=\"M95.1586 125.097 L111.478 125.097 L111.478 129.032 L89.5336 129.032 L89.5336 125.097 Q92.1956 122.342 96.7789 117.712 Q101.385 113.06 102.566 111.717 Q104.811 109.194 105.691 107.458 Q106.594 105.698 106.594 104.009 Q106.594 101.254 104.649 99.518 Q102.728 97.7819 99.6261 97.7819 Q97.4271 97.7819 94.9734 98.5457 Q92.5428 99.3096 89.7651 100.861 L89.7651 96.1384 Q92.5891 95.0041 95.0428 94.4254 Q97.4965 93.8467 99.5335 93.8467 Q104.904 93.8467 108.098 96.5319 Q111.293 99.217 111.293 103.708 Q111.293 105.837 110.483 107.759 Q109.696 109.657 107.589 112.249 Q107.01 112.921 103.909 116.138 Q100.807 119.333 95.1586 125.097 Z\" fill=\"#000000\" fill-rule=\"nonzero\" fill-opacity=\"1\" /><polyline clip-path=\"url(#clip652)\" style=\"stroke:#009af9; stroke-linecap:round; stroke-linejoin:round; stroke-width:4; stroke-opacity:1; fill:none\" points=\"1779.42,438.841 1826.37,471.957 1912.69,560.907 1976.27,693.241 1958.46,885.67 1863.74,1009.14 1592.19,1173.63 1097.76,1296.75 631.774,1183.27 394.122,871.339 459.172,551.727 736.995,353.134 1507.48,154.704 2072.76,402.172 2223.24,809.025 2036.68,1086.26 1514.56,1328.34 759.18,1385.01 287.172,969.914 271.28,622.401 540.025,374.407 1319.12,107.89 2028.8,270.529 2290.34,758.293 2140.27,1059.96 1673.27,1300.37 922.291,1442.6 304.729,1066.25 223.831,671.931 467.823,397.778 1065.63,152.778 1859.18,151.857 2284.52,640.123 2213.56,1000.92 1840.56,1237.77 1107.81,1445.72 398.756,1198.29 209.891,734.484 382.382,452.571 876.298,212.468 1629.59,87.9763 1885.38,162.765 \"/>\n",
       "<path clip-path=\"url(#clip650)\" d=\"M2006.29 1438.47 L2279.25 1438.47 L2279.25 1334.79 L2006.29 1334.79  Z\" fill=\"#ffffff\" fill-rule=\"evenodd\" fill-opacity=\"1\"/>\n",
       "<polyline clip-path=\"url(#clip650)\" style=\"stroke:#000000; stroke-linecap:round; stroke-linejoin:round; stroke-width:4; stroke-opacity:1; fill:none\" points=\"2006.29,1438.47 2279.25,1438.47 2279.25,1334.79 2006.29,1334.79 2006.29,1438.47 \"/>\n",
       "<polyline clip-path=\"url(#clip650)\" style=\"stroke:#009af9; stroke-linecap:round; stroke-linejoin:round; stroke-width:4; stroke-opacity:1; fill:none\" points=\"2030.79,1386.63 2177.81,1386.63 \"/>\n",
       "<path clip-path=\"url(#clip650)\" d=\"M2216.16 1406.32 Q2214.35 1410.95 2212.64 1412.36 Q2210.92 1413.78 2208.05 1413.78 L2204.65 1413.78 L2204.65 1410.21 L2207.15 1410.21 Q2208.91 1410.21 2209.88 1409.38 Q2210.85 1408.54 2212.04 1405.44 L2212.8 1403.5 L2202.31 1377.99 L2206.83 1377.99 L2214.93 1398.27 L2223.03 1377.99 L2227.54 1377.99 L2216.16 1406.32 Z\" fill=\"#000000\" fill-rule=\"nonzero\" fill-opacity=\"1\" /><path clip-path=\"url(#clip650)\" d=\"M2234.84 1399.98 L2242.48 1399.98 L2242.48 1373.61 L2234.16 1375.28 L2234.16 1371.02 L2242.43 1369.35 L2247.1 1369.35 L2247.1 1399.98 L2254.74 1399.98 L2254.74 1403.91 L2234.84 1403.91 L2234.84 1399.98 Z\" fill=\"#000000\" fill-rule=\"nonzero\" fill-opacity=\"1\" /></svg>\n"
      ],
      "text/html": [
       "<?xml version=\"1.0\" encoding=\"utf-8\"?>\n",
       "<svg xmlns=\"http://www.w3.org/2000/svg\" xmlns:xlink=\"http://www.w3.org/1999/xlink\" width=\"600\" height=\"400\" viewBox=\"0 0 2400 1600\">\n",
       "<defs>\n",
       "  <clipPath id=\"clip700\">\n",
       "    <rect x=\"0\" y=\"0\" width=\"2400\" height=\"1600\"/>\n",
       "  </clipPath>\n",
       "</defs>\n",
       "<path clip-path=\"url(#clip700)\" d=\"M0 1600 L2400 1600 L2400 0 L0 0  Z\" fill=\"#ffffff\" fill-rule=\"evenodd\" fill-opacity=\"1\"/>\n",
       "<defs>\n",
       "  <clipPath id=\"clip701\">\n",
       "    <rect x=\"480\" y=\"0\" width=\"1681\" height=\"1600\"/>\n",
       "  </clipPath>\n",
       "</defs>\n",
       "<path clip-path=\"url(#clip700)\" d=\"M147.478 1486.45 L2352.76 1486.45 L2352.76 47.2441 L147.478 47.2441  Z\" fill=\"#ffffff\" fill-rule=\"evenodd\" fill-opacity=\"1\"/>\n",
       "<defs>\n",
       "  <clipPath id=\"clip702\">\n",
       "    <rect x=\"147\" y=\"47\" width=\"2206\" height=\"1440\"/>\n",
       "  </clipPath>\n",
       "</defs>\n",
       "<polyline clip-path=\"url(#clip702)\" style=\"stroke:#000000; stroke-linecap:round; stroke-linejoin:round; stroke-width:2; stroke-opacity:0.1; fill:none\" points=\"210.059,1486.45 210.059,47.2441 \"/>\n",
       "<polyline clip-path=\"url(#clip702)\" style=\"stroke:#000000; stroke-linecap:round; stroke-linejoin:round; stroke-width:2; stroke-opacity:0.1; fill:none\" points=\"733.178,1486.45 733.178,47.2441 \"/>\n",
       "<polyline clip-path=\"url(#clip702)\" style=\"stroke:#000000; stroke-linecap:round; stroke-linejoin:round; stroke-width:2; stroke-opacity:0.1; fill:none\" points=\"1256.3,1486.45 1256.3,47.2441 \"/>\n",
       "<polyline clip-path=\"url(#clip702)\" style=\"stroke:#000000; stroke-linecap:round; stroke-linejoin:round; stroke-width:2; stroke-opacity:0.1; fill:none\" points=\"1779.42,1486.45 1779.42,47.2441 \"/>\n",
       "<polyline clip-path=\"url(#clip702)\" style=\"stroke:#000000; stroke-linecap:round; stroke-linejoin:round; stroke-width:2; stroke-opacity:0.1; fill:none\" points=\"2302.53,1486.45 2302.53,47.2441 \"/>\n",
       "<polyline clip-path=\"url(#clip700)\" style=\"stroke:#000000; stroke-linecap:round; stroke-linejoin:round; stroke-width:4; stroke-opacity:1; fill:none\" points=\"147.478,1486.45 2352.76,1486.45 \"/>\n",
       "<polyline clip-path=\"url(#clip700)\" style=\"stroke:#000000; stroke-linecap:round; stroke-linejoin:round; stroke-width:4; stroke-opacity:1; fill:none\" points=\"210.059,1486.45 210.059,1467.55 \"/>\n",
       "<polyline clip-path=\"url(#clip700)\" style=\"stroke:#000000; stroke-linecap:round; stroke-linejoin:round; stroke-width:4; stroke-opacity:1; fill:none\" points=\"733.178,1486.45 733.178,1467.55 \"/>\n",
       "<polyline clip-path=\"url(#clip700)\" style=\"stroke:#000000; stroke-linecap:round; stroke-linejoin:round; stroke-width:4; stroke-opacity:1; fill:none\" points=\"1256.3,1486.45 1256.3,1467.55 \"/>\n",
       "<polyline clip-path=\"url(#clip700)\" style=\"stroke:#000000; stroke-linecap:round; stroke-linejoin:round; stroke-width:4; stroke-opacity:1; fill:none\" points=\"1779.42,1486.45 1779.42,1467.55 \"/>\n",
       "<polyline clip-path=\"url(#clip700)\" style=\"stroke:#000000; stroke-linecap:round; stroke-linejoin:round; stroke-width:4; stroke-opacity:1; fill:none\" points=\"2302.53,1486.45 2302.53,1467.55 \"/>\n",
       "<path clip-path=\"url(#clip700)\" d=\"M180.002 1532.02 L209.678 1532.02 L209.678 1535.95 L180.002 1535.95 L180.002 1532.02 Z\" fill=\"#000000\" fill-rule=\"nonzero\" fill-opacity=\"1\" /><path clip-path=\"url(#clip700)\" d=\"M223.798 1544.91 L240.117 1544.91 L240.117 1548.85 L218.173 1548.85 L218.173 1544.91 Q220.835 1542.16 225.418 1537.53 Q230.025 1532.88 231.205 1531.53 Q233.451 1529.01 234.33 1527.27 Q235.233 1525.51 235.233 1523.82 Q235.233 1521.07 233.289 1519.33 Q231.367 1517.6 228.265 1517.6 Q226.066 1517.6 223.613 1518.36 Q221.182 1519.13 218.404 1520.68 L218.404 1515.95 Q221.228 1514.82 223.682 1514.24 Q226.136 1513.66 228.173 1513.66 Q233.543 1513.66 236.738 1516.35 Q239.932 1519.03 239.932 1523.52 Q239.932 1525.65 239.122 1527.57 Q238.335 1529.47 236.228 1532.07 Q235.65 1532.74 232.548 1535.95 Q229.446 1539.15 223.798 1544.91 Z\" fill=\"#000000\" fill-rule=\"nonzero\" fill-opacity=\"1\" /><path clip-path=\"url(#clip700)\" d=\"M702.935 1532.02 L732.611 1532.02 L732.611 1535.95 L702.935 1535.95 L702.935 1532.02 Z\" fill=\"#000000\" fill-rule=\"nonzero\" fill-opacity=\"1\" /><path clip-path=\"url(#clip700)\" d=\"M743.514 1544.91 L751.153 1544.91 L751.153 1518.55 L742.843 1520.21 L742.843 1515.95 L751.106 1514.29 L755.782 1514.29 L755.782 1544.91 L763.421 1544.91 L763.421 1548.85 L743.514 1548.85 L743.514 1544.91 Z\" fill=\"#000000\" fill-rule=\"nonzero\" fill-opacity=\"1\" /><path clip-path=\"url(#clip700)\" d=\"M1256.3 1517.37 Q1252.69 1517.37 1250.86 1520.93 Q1249.05 1524.47 1249.05 1531.6 Q1249.05 1538.71 1250.86 1542.27 Q1252.69 1545.82 1256.3 1545.82 Q1259.93 1545.82 1261.74 1542.27 Q1263.57 1538.71 1263.57 1531.6 Q1263.57 1524.47 1261.74 1520.93 Q1259.93 1517.37 1256.3 1517.37 M1256.3 1513.66 Q1262.11 1513.66 1265.16 1518.27 Q1268.24 1522.85 1268.24 1531.6 Q1268.24 1540.33 1265.16 1544.94 Q1262.11 1549.52 1256.3 1549.52 Q1250.49 1549.52 1247.41 1544.94 Q1244.35 1540.33 1244.35 1531.6 Q1244.35 1522.85 1247.41 1518.27 Q1250.49 1513.66 1256.3 1513.66 Z\" fill=\"#000000\" fill-rule=\"nonzero\" fill-opacity=\"1\" /><path clip-path=\"url(#clip700)\" d=\"M1769.8 1544.91 L1777.44 1544.91 L1777.44 1518.55 L1769.13 1520.21 L1769.13 1515.95 L1777.39 1514.29 L1782.07 1514.29 L1782.07 1544.91 L1789.7 1544.91 L1789.7 1548.85 L1769.8 1548.85 L1769.8 1544.91 Z\" fill=\"#000000\" fill-rule=\"nonzero\" fill-opacity=\"1\" /><path clip-path=\"url(#clip700)\" d=\"M2297.19 1544.91 L2313.51 1544.91 L2313.51 1548.85 L2291.56 1548.85 L2291.56 1544.91 Q2294.22 1542.16 2298.81 1537.53 Q2303.41 1532.88 2304.59 1531.53 Q2306.84 1529.01 2307.72 1527.27 Q2308.62 1525.51 2308.62 1523.82 Q2308.62 1521.07 2306.68 1519.33 Q2304.76 1517.6 2301.65 1517.6 Q2299.46 1517.6 2297 1518.36 Q2294.57 1519.13 2291.79 1520.68 L2291.79 1515.95 Q2294.62 1514.82 2297.07 1514.24 Q2299.53 1513.66 2301.56 1513.66 Q2306.93 1513.66 2310.13 1516.35 Q2313.32 1519.03 2313.32 1523.52 Q2313.32 1525.65 2312.51 1527.57 Q2311.72 1529.47 2309.62 1532.07 Q2309.04 1532.74 2305.94 1535.95 Q2302.84 1539.15 2297.19 1544.91 Z\" fill=\"#000000\" fill-rule=\"nonzero\" fill-opacity=\"1\" /><polyline clip-path=\"url(#clip702)\" style=\"stroke:#000000; stroke-linecap:round; stroke-linejoin:round; stroke-width:2; stroke-opacity:0.1; fill:none\" points=\"147.478,1420.11 2352.76,1420.11 \"/>\n",
       "<polyline clip-path=\"url(#clip702)\" style=\"stroke:#000000; stroke-linecap:round; stroke-linejoin:round; stroke-width:2; stroke-opacity:0.1; fill:none\" points=\"147.478,1093.02 2352.76,1093.02 \"/>\n",
       "<polyline clip-path=\"url(#clip702)\" style=\"stroke:#000000; stroke-linecap:round; stroke-linejoin:round; stroke-width:2; stroke-opacity:0.1; fill:none\" points=\"147.478,765.93 2352.76,765.93 \"/>\n",
       "<polyline clip-path=\"url(#clip702)\" style=\"stroke:#000000; stroke-linecap:round; stroke-linejoin:round; stroke-width:2; stroke-opacity:0.1; fill:none\" points=\"147.478,438.841 2352.76,438.841 \"/>\n",
       "<polyline clip-path=\"url(#clip702)\" style=\"stroke:#000000; stroke-linecap:round; stroke-linejoin:round; stroke-width:2; stroke-opacity:0.1; fill:none\" points=\"147.478,111.752 2352.76,111.752 \"/>\n",
       "<polyline clip-path=\"url(#clip700)\" style=\"stroke:#000000; stroke-linecap:round; stroke-linejoin:round; stroke-width:4; stroke-opacity:1; fill:none\" points=\"147.478,1486.45 147.478,47.2441 \"/>\n",
       "<polyline clip-path=\"url(#clip700)\" style=\"stroke:#000000; stroke-linecap:round; stroke-linejoin:round; stroke-width:4; stroke-opacity:1; fill:none\" points=\"147.478,1420.11 166.376,1420.11 \"/>\n",
       "<polyline clip-path=\"url(#clip700)\" style=\"stroke:#000000; stroke-linecap:round; stroke-linejoin:round; stroke-width:4; stroke-opacity:1; fill:none\" points=\"147.478,1093.02 166.376,1093.02 \"/>\n",
       "<polyline clip-path=\"url(#clip700)\" style=\"stroke:#000000; stroke-linecap:round; stroke-linejoin:round; stroke-width:4; stroke-opacity:1; fill:none\" points=\"147.478,765.93 166.376,765.93 \"/>\n",
       "<polyline clip-path=\"url(#clip700)\" style=\"stroke:#000000; stroke-linecap:round; stroke-linejoin:round; stroke-width:4; stroke-opacity:1; fill:none\" points=\"147.478,438.841 166.376,438.841 \"/>\n",
       "<polyline clip-path=\"url(#clip700)\" style=\"stroke:#000000; stroke-linecap:round; stroke-linejoin:round; stroke-width:4; stroke-opacity:1; fill:none\" points=\"147.478,111.752 166.376,111.752 \"/>\n",
       "<path clip-path=\"url(#clip700)\" d=\"M51.3625 1420.56 L81.0383 1420.56 L81.0383 1424.5 L51.3625 1424.5 L51.3625 1420.56 Z\" fill=\"#000000\" fill-rule=\"nonzero\" fill-opacity=\"1\" /><path clip-path=\"url(#clip700)\" d=\"M95.1586 1433.45 L111.478 1433.45 L111.478 1437.39 L89.5336 1437.39 L89.5336 1433.45 Q92.1956 1430.7 96.7789 1426.07 Q101.385 1421.42 102.566 1420.07 Q104.811 1417.55 105.691 1415.82 Q106.594 1414.06 106.594 1412.37 Q106.594 1409.61 104.649 1407.88 Q102.728 1406.14 99.6261 1406.14 Q97.4271 1406.14 94.9734 1406.9 Q92.5428 1407.67 89.7651 1409.22 L89.7651 1404.5 Q92.5891 1403.36 95.0428 1402.78 Q97.4965 1402.2 99.5335 1402.2 Q104.904 1402.2 108.098 1404.89 Q111.293 1407.57 111.293 1412.07 Q111.293 1414.19 110.483 1416.12 Q109.696 1418.01 107.589 1420.61 Q107.01 1421.28 103.909 1424.5 Q100.807 1427.69 95.1586 1433.45 Z\" fill=\"#000000\" fill-rule=\"nonzero\" fill-opacity=\"1\" /><path clip-path=\"url(#clip700)\" d=\"M50.9921 1093.47 L80.6679 1093.47 L80.6679 1097.41 L50.9921 1097.41 L50.9921 1093.47 Z\" fill=\"#000000\" fill-rule=\"nonzero\" fill-opacity=\"1\" /><path clip-path=\"url(#clip700)\" d=\"M91.5706 1106.36 L99.2095 1106.36 L99.2095 1080 L90.8993 1081.67 L90.8993 1077.41 L99.1632 1075.74 L103.839 1075.74 L103.839 1106.36 L111.478 1106.36 L111.478 1110.3 L91.5706 1110.3 L91.5706 1106.36 Z\" fill=\"#000000\" fill-rule=\"nonzero\" fill-opacity=\"1\" /><path clip-path=\"url(#clip700)\" d=\"M99.5335 751.729 Q95.9224 751.729 94.0937 755.294 Q92.2882 758.836 92.2882 765.965 Q92.2882 773.072 94.0937 776.636 Q95.9224 780.178 99.5335 780.178 Q103.168 780.178 104.973 776.636 Q106.802 773.072 106.802 765.965 Q106.802 758.836 104.973 755.294 Q103.168 751.729 99.5335 751.729 M99.5335 748.025 Q105.344 748.025 108.399 752.632 Q111.478 757.215 111.478 765.965 Q111.478 774.692 108.399 779.298 Q105.344 783.882 99.5335 783.882 Q93.7234 783.882 90.6447 779.298 Q87.5892 774.692 87.5892 765.965 Q87.5892 757.215 90.6447 752.632 Q93.7234 748.025 99.5335 748.025 Z\" fill=\"#000000\" fill-rule=\"nonzero\" fill-opacity=\"1\" /><path clip-path=\"url(#clip700)\" d=\"M91.5706 452.186 L99.2095 452.186 L99.2095 425.82 L90.8993 427.487 L90.8993 423.228 L99.1632 421.561 L103.839 421.561 L103.839 452.186 L111.478 452.186 L111.478 456.121 L91.5706 456.121 L91.5706 452.186 Z\" fill=\"#000000\" fill-rule=\"nonzero\" fill-opacity=\"1\" /><path clip-path=\"url(#clip700)\" d=\"M95.1586 125.097 L111.478 125.097 L111.478 129.032 L89.5336 129.032 L89.5336 125.097 Q92.1956 122.342 96.7789 117.712 Q101.385 113.06 102.566 111.717 Q104.811 109.194 105.691 107.458 Q106.594 105.698 106.594 104.009 Q106.594 101.254 104.649 99.518 Q102.728 97.7819 99.6261 97.7819 Q97.4271 97.7819 94.9734 98.5457 Q92.5428 99.3096 89.7651 100.861 L89.7651 96.1384 Q92.5891 95.0041 95.0428 94.4254 Q97.4965 93.8467 99.5335 93.8467 Q104.904 93.8467 108.098 96.5319 Q111.293 99.217 111.293 103.708 Q111.293 105.837 110.483 107.759 Q109.696 109.657 107.589 112.249 Q107.01 112.921 103.909 116.138 Q100.807 119.333 95.1586 125.097 Z\" fill=\"#000000\" fill-rule=\"nonzero\" fill-opacity=\"1\" /><polyline clip-path=\"url(#clip702)\" style=\"stroke:#009af9; stroke-linecap:round; stroke-linejoin:round; stroke-width:4; stroke-opacity:1; fill:none\" points=\"1779.42,438.841 1826.37,471.957 1912.69,560.907 1976.27,693.241 1958.46,885.67 1863.74,1009.14 1592.19,1173.63 1097.76,1296.75 631.774,1183.27 394.122,871.339 459.172,551.727 736.995,353.134 1507.48,154.704 2072.76,402.172 2223.24,809.025 2036.68,1086.26 1514.56,1328.34 759.18,1385.01 287.172,969.914 271.28,622.401 540.025,374.407 1319.12,107.89 2028.8,270.529 2290.34,758.293 2140.27,1059.96 1673.27,1300.37 922.291,1442.6 304.729,1066.25 223.831,671.931 467.823,397.778 1065.63,152.778 1859.18,151.857 2284.52,640.123 2213.56,1000.92 1840.56,1237.77 1107.81,1445.72 398.756,1198.29 209.891,734.484 382.382,452.571 876.298,212.468 1629.59,87.9763 1885.38,162.765 \"/>\n",
       "<path clip-path=\"url(#clip700)\" d=\"M2006.29 1438.47 L2279.25 1438.47 L2279.25 1334.79 L2006.29 1334.79  Z\" fill=\"#ffffff\" fill-rule=\"evenodd\" fill-opacity=\"1\"/>\n",
       "<polyline clip-path=\"url(#clip700)\" style=\"stroke:#000000; stroke-linecap:round; stroke-linejoin:round; stroke-width:4; stroke-opacity:1; fill:none\" points=\"2006.29,1438.47 2279.25,1438.47 2279.25,1334.79 2006.29,1334.79 2006.29,1438.47 \"/>\n",
       "<polyline clip-path=\"url(#clip700)\" style=\"stroke:#009af9; stroke-linecap:round; stroke-linejoin:round; stroke-width:4; stroke-opacity:1; fill:none\" points=\"2030.79,1386.63 2177.81,1386.63 \"/>\n",
       "<path clip-path=\"url(#clip700)\" d=\"M2216.16 1406.32 Q2214.35 1410.95 2212.64 1412.36 Q2210.92 1413.78 2208.05 1413.78 L2204.65 1413.78 L2204.65 1410.21 L2207.15 1410.21 Q2208.91 1410.21 2209.88 1409.38 Q2210.85 1408.54 2212.04 1405.44 L2212.8 1403.5 L2202.31 1377.99 L2206.83 1377.99 L2214.93 1398.27 L2223.03 1377.99 L2227.54 1377.99 L2216.16 1406.32 Z\" fill=\"#000000\" fill-rule=\"nonzero\" fill-opacity=\"1\" /><path clip-path=\"url(#clip700)\" d=\"M2234.84 1399.98 L2242.48 1399.98 L2242.48 1373.61 L2234.16 1375.28 L2234.16 1371.02 L2242.43 1369.35 L2247.1 1369.35 L2247.1 1399.98 L2254.74 1399.98 L2254.74 1403.91 L2234.84 1403.91 L2234.84 1399.98 Z\" fill=\"#000000\" fill-rule=\"nonzero\" fill-opacity=\"1\" /></svg>\n"
      ]
     },
     "execution_count": 38,
     "metadata": {},
     "output_type": "execute_result"
    }
   ],
   "source": [
    "plot(vdp_sol[vdp.x], vdp_sol[vdp.y])"
   ]
  },
  {
   "cell_type": "code",
   "execution_count": null,
   "id": "958bdb32-76fd-4429-9518-a8e689d77377",
   "metadata": {},
   "outputs": [],
   "source": []
  }
 ],
 "metadata": {
  "kernelspec": {
   "display_name": "Julia 1.9.0",
   "language": "julia",
   "name": "julia-1.9"
  },
  "language_info": {
   "file_extension": ".jl",
   "mimetype": "application/julia",
   "name": "julia",
   "version": "1.9.0"
  }
 },
 "nbformat": 4,
 "nbformat_minor": 5
}
