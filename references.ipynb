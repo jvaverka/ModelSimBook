{
 "cells": [
  {
   "cell_type": "markdown",
   "id": "8abf8db2-14d2-4db3-9e0e-b57228106986",
   "metadata": {},
   "source": [
    "# References {.unnumbered}\n",
    "\n",
    "::: {#refs}\n",
    ":::\n"
   ]
  }
 ],
 "metadata": {
  "kernelspec": {
   "display_name": "Julia 1.9.2",
   "language": "julia",
   "name": "julia-1.9"
  },
  "language_info": {
   "file_extension": ".jl",
   "mimetype": "application/julia",
   "name": "julia",
   "version": "1.9.2"
  }
 },
 "nbformat": 4,
 "nbformat_minor": 5
}
